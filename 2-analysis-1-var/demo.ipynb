{
 "cells": [
  {
   "cell_type": "code",
   "execution_count": 13,
   "metadata": {},
   "outputs": [],
   "source": [
    "# Package imports for data science\n",
    "import numpy as np\n",
    "import pandas as pd\n",
    "import scipy.stats as stats\n",
    "from pandas.api.types import CategoricalDtype\n",
    "import matplotlib.pyplot as plt\n",
    "import seaborn as sns\n",
    "from statsmodels.graphics.mosaicplot import mosaic"
   ]
  },
  {
   "cell_type": "code",
   "execution_count": null,
   "metadata": {},
   "outputs": [
    {
     "name": "stdout",
     "output_type": "stream",
     "text": [
      "173.4\n",
      "184.0\n",
      "var: 690.64\n",
      "std: 26.280030441382674\n"
     ]
    }
   ],
   "source": [
    "lengths = np.array([141,198,143,201,184])\n",
    "# gelijk een array, maar toch iets anders, met andere methodes\n",
    "print(lengths.mean())\n",
    "print(np.median(lengths))\n",
    "lengths.max() - lengths.min()\n",
    "print(f\"var: {lengths.var()}\") # om juist te zijn, moet ddof=1 worden toegevoegd\n",
    "print(f\"std: {lengths.std()}\") # idem ^"
   ]
  },
  {
   "cell_type": "code",
   "execution_count": 24,
   "metadata": {},
   "outputs": [
    {
     "name": "stdout",
     "output_type": "stream",
     "text": [
      "147.2\n",
      "184.0\n"
     ]
    }
   ],
   "source": [
    "lengths2 = np.array([10,198,143,201,184])\n",
    "print(lengths2.mean())\n",
    "print(np.median(lengths2))"
   ]
  },
  {
   "cell_type": "code",
   "execution_count": null,
   "metadata": {},
   "outputs": [
    {
     "name": "stdout",
     "output_type": "stream",
     "text": [
      "13.609036790050249\n",
      "13.609036790050249\n"
     ]
    }
   ],
   "source": [
    "saves = pd.Series([3, 7, 5, 13, 20, 23, 39, 13, 23, 40, 13, 23, 14, 12, 56, 23, 29, 13])\n",
    "# gelijk kolommen van een csv bestand\n",
    "print(np.std(saves, ddof=1)) #verwijder ddof om verschil te zien\n",
    "print(saves.std())\n",
    "# geven een verschillend resultaat: één doet /n-1, ander doet /n -> zie 2.01-univariate"
   ]
  }
 ],
 "metadata": {
  "kernelspec": {
   "display_name": "Python 3",
   "language": "python",
   "name": "python3"
  },
  "language_info": {
   "codemirror_mode": {
    "name": "ipython",
    "version": 3
   },
   "file_extension": ".py",
   "mimetype": "text/x-python",
   "name": "python",
   "nbconvert_exporter": "python",
   "pygments_lexer": "ipython3",
   "version": "3.13.1"
  }
 },
 "nbformat": 4,
 "nbformat_minor": 2
}
