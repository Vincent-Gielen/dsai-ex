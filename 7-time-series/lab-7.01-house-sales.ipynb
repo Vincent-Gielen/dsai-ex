{
  "cells": [
    {
      "cell_type": "markdown",
      "metadata": {
        "id": "ifLP6PF2VNyG"
      },
      "source": [
        "# Lab 7.01 - Time series analysis"
      ]
    },
    {
      "cell_type": "code",
      "execution_count": 1,
      "metadata": {
        "id": "PwYaTAjzVNyI"
      },
      "outputs": [],
      "source": [
        "# Package imports for data science and time series analysis in particular\n",
        "import numpy as np                                  # \"Scientific computing\"\n",
        "import pandas as pd                                 # Dataframe\n",
        "import scipy.stats as stats                         # Statistical tests\n",
        "\n",
        "import matplotlib.pyplot as plt                     # Basic visualisation\n",
        "import seaborn as sns                               # Advanced dataviz\n",
        "\n",
        "from sklearn.linear_model import LinearRegression   # Linear regression model\n",
        "\n",
        "# Time series analysis\n",
        "from datetime import datetime\n",
        "from sklearn.metrics import mean_absolute_error,mean_squared_error\n",
        "from statsmodels.tsa.api import Holt\n",
        "from statsmodels.tsa.holtwinters import ExponentialSmoothing\n",
        "from statsmodels.tsa.seasonal import seasonal_decompose"
      ]
    },
    {
      "cell_type": "markdown",
      "metadata": {
        "id": "Efmg-99mgxO6"
      },
      "source": [
        "### Exercise 1 - House sales\n",
        "\n",
        "The file House Sales.csv contains monthly data on the number of new one-family\n",
        "houses sold in the United States (in thousands) from January 1991 through December 2011.\n",
        "Housing sales were steadily trending upward until about the beginning of 2006, then the\n",
        "bottom fell out of the housing market, and sales eventually started trending upward again.   \n",
        "\n",
        "- First Create a time series chart of the data.\n",
        "- Add predictions for Simple Moving Average with span of 3, 6 and 12 months to the dataframe.\n",
        "- Add predictions for Simple Exponential Smooting to the dataframe.\n",
        "- Add predictions for Double Exponential Smoothing to the dataframe.\n",
        "- Calculate the MAE to find the best model"
      ]
    },
    {
      "cell_type": "code",
      "execution_count": 4,
      "metadata": {
        "colab": {
          "base_uri": "https://localhost:8080/",
          "height": 237
        },
        "id": "TfZTTRyrSLlP",
        "outputId": "243528ae-519d-4eac-e044-fe51a88f62b7"
      },
      "outputs": [
        {
          "name": "stderr",
          "output_type": "stream",
          "text": [
            "C:\\Users\\vinni\\AppData\\Local\\Temp\\ipykernel_15824\\2069034389.py:1: UserWarning: Could not infer format, so each element will be parsed individually, falling back to `dateutil`. To ensure parsing is consistent and as-expected, please specify a format.\n",
            "  houses_sold = pd.read_csv('https://raw.githubusercontent.com/HoGentTIN/dsai-labs/main/data/Monthly%20House%20Sales.csv', delimiter = \";\", parse_dates=['Month']).set_index(['Month'])\n"
          ]
        },
        {
          "data": {
            "text/html": [
              "<div>\n",
              "<style scoped>\n",
              "    .dataframe tbody tr th:only-of-type {\n",
              "        vertical-align: middle;\n",
              "    }\n",
              "\n",
              "    .dataframe tbody tr th {\n",
              "        vertical-align: top;\n",
              "    }\n",
              "\n",
              "    .dataframe thead th {\n",
              "        text-align: right;\n",
              "    }\n",
              "</style>\n",
              "<table border=\"1\" class=\"dataframe\">\n",
              "  <thead>\n",
              "    <tr style=\"text-align: right;\">\n",
              "      <th></th>\n",
              "      <th>Houses Sold</th>\n",
              "    </tr>\n",
              "    <tr>\n",
              "      <th>Month</th>\n",
              "      <th></th>\n",
              "    </tr>\n",
              "  </thead>\n",
              "  <tbody>\n",
              "    <tr>\n",
              "      <th>jan/91</th>\n",
              "      <td>401</td>\n",
              "    </tr>\n",
              "    <tr>\n",
              "      <th>feb/91</th>\n",
              "      <td>482</td>\n",
              "    </tr>\n",
              "    <tr>\n",
              "      <th>mrt/91</th>\n",
              "      <td>507</td>\n",
              "    </tr>\n",
              "    <tr>\n",
              "      <th>apr/91</th>\n",
              "      <td>508</td>\n",
              "    </tr>\n",
              "    <tr>\n",
              "      <th>mei/91</th>\n",
              "      <td>517</td>\n",
              "    </tr>\n",
              "  </tbody>\n",
              "</table>\n",
              "</div>"
            ],
            "text/plain": [
              "        Houses Sold\n",
              "Month              \n",
              "jan/91          401\n",
              "feb/91          482\n",
              "mrt/91          507\n",
              "apr/91          508\n",
              "mei/91          517"
            ]
          },
          "execution_count": 4,
          "metadata": {},
          "output_type": "execute_result"
        }
      ],
      "source": [
        "houses_sold = pd.read_csv('https://raw.githubusercontent.com/HoGentTIN/dsai-labs/main/data/Monthly%20House%20Sales.csv', delimiter = \";\", parse_dates=['Month']).set_index(['Month'])\n",
        "houses_sold.head()"
      ]
    },
    {
      "cell_type": "markdown",
      "metadata": {
        "id": "GI3gAjT2Ve7c"
      },
      "source": [
        "First Create a time series chart of the data."
      ]
    },
    {
      "cell_type": "code",
      "execution_count": 6,
      "metadata": {
        "id": "yPdMstk9hrN3"
      },
      "outputs": [
        {
          "data": {
            "text/plain": [
              "<Axes: xlabel='Month'>"
            ]
          },
          "execution_count": 6,
          "metadata": {},
          "output_type": "execute_result"
        },
        {
          "data": {
            "image/png": "[encoded data removed]",
            "text/plain": [
              "<Figure size 1000x500 with 1 Axes>"
            ]
          },
          "metadata": {},
          "output_type": "display_data"
        }
      ],
      "source": [
        "houses_sold.plot(y='Houses Sold', figsize=[10, 5])"
      ]
    },
    {
      "cell_type": "markdown",
      "metadata": {
        "id": "1DI-lvtPViR8"
      },
      "source": [
        "Add predictions for Simple Moving Average with span of 3, 6 and 12 months to the dataframe."
      ]
    },
    {
      "cell_type": "code",
      "execution_count": 7,
      "metadata": {
        "id": "DPDp4a2LxvP_"
      },
      "outputs": [
        {
          "data": {
            "text/html": [
              "<div>\n",
              "<style scoped>\n",
              "    .dataframe tbody tr th:only-of-type {\n",
              "        vertical-align: middle;\n",
              "    }\n",
              "\n",
              "    .dataframe tbody tr th {\n",
              "        vertical-align: top;\n",
              "    }\n",
              "\n",
              "    .dataframe thead th {\n",
              "        text-align: right;\n",
              "    }\n",
              "</style>\n",
              "<table border=\"1\" class=\"dataframe\">\n",
              "  <thead>\n",
              "    <tr style=\"text-align: right;\">\n",
              "      <th></th>\n",
              "      <th>Houses Sold</th>\n",
              "      <th>SMA3</th>\n",
              "      <th>SMA6</th>\n",
              "      <th>SMA12</th>\n",
              "    </tr>\n",
              "    <tr>\n",
              "      <th>Month</th>\n",
              "      <th></th>\n",
              "      <th></th>\n",
              "      <th></th>\n",
              "      <th></th>\n",
              "    </tr>\n",
              "  </thead>\n",
              "  <tbody>\n",
              "    <tr>\n",
              "      <th>jan/91</th>\n",
              "      <td>401</td>\n",
              "      <td>NaN</td>\n",
              "      <td>NaN</td>\n",
              "      <td>NaN</td>\n",
              "    </tr>\n",
              "    <tr>\n",
              "      <th>feb/91</th>\n",
              "      <td>482</td>\n",
              "      <td>NaN</td>\n",
              "      <td>NaN</td>\n",
              "      <td>NaN</td>\n",
              "    </tr>\n",
              "    <tr>\n",
              "      <th>mrt/91</th>\n",
              "      <td>507</td>\n",
              "      <td>463.333333</td>\n",
              "      <td>NaN</td>\n",
              "      <td>NaN</td>\n",
              "    </tr>\n",
              "    <tr>\n",
              "      <th>apr/91</th>\n",
              "      <td>508</td>\n",
              "      <td>499.000000</td>\n",
              "      <td>NaN</td>\n",
              "      <td>NaN</td>\n",
              "    </tr>\n",
              "    <tr>\n",
              "      <th>mei/91</th>\n",
              "      <td>517</td>\n",
              "      <td>510.666667</td>\n",
              "      <td>NaN</td>\n",
              "      <td>NaN</td>\n",
              "    </tr>\n",
              "    <tr>\n",
              "      <th>...</th>\n",
              "      <td>...</td>\n",
              "      <td>...</td>\n",
              "      <td>...</td>\n",
              "      <td>...</td>\n",
              "    </tr>\n",
              "    <tr>\n",
              "      <th>aug/11</th>\n",
              "      <td>290</td>\n",
              "      <td>296.000000</td>\n",
              "      <td>302.833333</td>\n",
              "      <td>302.000000</td>\n",
              "    </tr>\n",
              "    <tr>\n",
              "      <th>sep/11</th>\n",
              "      <td>302</td>\n",
              "      <td>295.666667</td>\n",
              "      <td>302.333333</td>\n",
              "      <td>300.833333</td>\n",
              "    </tr>\n",
              "    <tr>\n",
              "      <th>okt/11</th>\n",
              "      <td>307</td>\n",
              "      <td>299.666667</td>\n",
              "      <td>300.833333</td>\n",
              "      <td>302.916667</td>\n",
              "    </tr>\n",
              "    <tr>\n",
              "      <th>nov/11</th>\n",
              "      <td>314</td>\n",
              "      <td>307.666667</td>\n",
              "      <td>301.833333</td>\n",
              "      <td>305.166667</td>\n",
              "    </tr>\n",
              "    <tr>\n",
              "      <th>dec/11</th>\n",
              "      <td>307</td>\n",
              "      <td>309.333333</td>\n",
              "      <td>302.500000</td>\n",
              "      <td>303.166667</td>\n",
              "    </tr>\n",
              "  </tbody>\n",
              "</table>\n",
              "<p>252 rows × 4 columns</p>\n",
              "</div>"
            ],
            "text/plain": [
              "        Houses Sold        SMA3        SMA6       SMA12\n",
              "Month                                                  \n",
              "jan/91          401         NaN         NaN         NaN\n",
              "feb/91          482         NaN         NaN         NaN\n",
              "mrt/91          507  463.333333         NaN         NaN\n",
              "apr/91          508  499.000000         NaN         NaN\n",
              "mei/91          517  510.666667         NaN         NaN\n",
              "...             ...         ...         ...         ...\n",
              "aug/11          290  296.000000  302.833333  302.000000\n",
              "sep/11          302  295.666667  302.333333  300.833333\n",
              "okt/11          307  299.666667  300.833333  302.916667\n",
              "nov/11          314  307.666667  301.833333  305.166667\n",
              "dec/11          307  309.333333  302.500000  303.166667\n",
              "\n",
              "[252 rows x 4 columns]"
            ]
          },
          "execution_count": 7,
          "metadata": {},
          "output_type": "execute_result"
        }
      ],
      "source": [
        "houses_sold['SMA3'] = houses_sold['Houses Sold'].rolling(3).mean()\n",
        "houses_sold['SMA6'] = houses_sold['Houses Sold'].rolling(6).mean()\n",
        "houses_sold['SMA12'] = houses_sold['Houses Sold'].rolling(12).mean()\n",
        "houses_sold"
      ]
    },
    {
      "cell_type": "markdown",
      "metadata": {
        "id": "d-V4WnpsVle9"
      },
      "source": [
        "Add predictions for Simple Exponential Smooting to the dataframe."
      ]
    },
    {
      "cell_type": "code",
      "execution_count": 10,
      "metadata": {
        "id": "dQ32JeTGzzJg"
      },
      "outputs": [
        {
          "name": "stderr",
          "output_type": "stream",
          "text": [
            "C:\\Users\\vinni\\AppData\\Roaming\\Python\\Python313\\site-packages\\statsmodels\\tsa\\base\\tsa_model.py:559: UserWarning: Could not infer format, so each element will be parsed individually, falling back to `dateutil`. To ensure parsing is consistent and as-expected, please specify a format.\n",
            "  _index = to_datetime(index)\n",
            "C:\\Users\\vinni\\AppData\\Roaming\\Python\\Python313\\site-packages\\statsmodels\\tsa\\base\\tsa_model.py:473: ValueWarning: An unsupported index was provided. As a result, forecasts cannot be generated. To use the model for forecasting, use one of the supported classes of index.\n",
            "  self._init_dates(dates, freq)\n"
          ]
        },
        {
          "data": {
            "text/html": [
              "<div>\n",
              "<style scoped>\n",
              "    .dataframe tbody tr th:only-of-type {\n",
              "        vertical-align: middle;\n",
              "    }\n",
              "\n",
              "    .dataframe tbody tr th {\n",
              "        vertical-align: top;\n",
              "    }\n",
              "\n",
              "    .dataframe thead th {\n",
              "        text-align: right;\n",
              "    }\n",
              "</style>\n",
              "<table border=\"1\" class=\"dataframe\">\n",
              "  <thead>\n",
              "    <tr style=\"text-align: right;\">\n",
              "      <th></th>\n",
              "      <th>Houses Sold</th>\n",
              "      <th>SMA3</th>\n",
              "      <th>SMA6</th>\n",
              "      <th>SMA12</th>\n",
              "      <th>SES</th>\n",
              "    </tr>\n",
              "    <tr>\n",
              "      <th>Month</th>\n",
              "      <th></th>\n",
              "      <th></th>\n",
              "      <th></th>\n",
              "      <th></th>\n",
              "      <th></th>\n",
              "    </tr>\n",
              "  </thead>\n",
              "  <tbody>\n",
              "    <tr>\n",
              "      <th>jan/91</th>\n",
              "      <td>401</td>\n",
              "      <td>NaN</td>\n",
              "      <td>NaN</td>\n",
              "      <td>NaN</td>\n",
              "      <td>401.000000</td>\n",
              "    </tr>\n",
              "    <tr>\n",
              "      <th>feb/91</th>\n",
              "      <td>482</td>\n",
              "      <td>NaN</td>\n",
              "      <td>NaN</td>\n",
              "      <td>NaN</td>\n",
              "      <td>409.100000</td>\n",
              "    </tr>\n",
              "    <tr>\n",
              "      <th>mrt/91</th>\n",
              "      <td>507</td>\n",
              "      <td>463.333333</td>\n",
              "      <td>NaN</td>\n",
              "      <td>NaN</td>\n",
              "      <td>418.890000</td>\n",
              "    </tr>\n",
              "    <tr>\n",
              "      <th>apr/91</th>\n",
              "      <td>508</td>\n",
              "      <td>499.000000</td>\n",
              "      <td>NaN</td>\n",
              "      <td>NaN</td>\n",
              "      <td>427.801000</td>\n",
              "    </tr>\n",
              "    <tr>\n",
              "      <th>mei/91</th>\n",
              "      <td>517</td>\n",
              "      <td>510.666667</td>\n",
              "      <td>NaN</td>\n",
              "      <td>NaN</td>\n",
              "      <td>436.720900</td>\n",
              "    </tr>\n",
              "    <tr>\n",
              "      <th>jun/91</th>\n",
              "      <td>516</td>\n",
              "      <td>513.666667</td>\n",
              "      <td>488.500000</td>\n",
              "      <td>NaN</td>\n",
              "      <td>444.648810</td>\n",
              "    </tr>\n",
              "    <tr>\n",
              "      <th>jul/91</th>\n",
              "      <td>511</td>\n",
              "      <td>514.666667</td>\n",
              "      <td>506.833333</td>\n",
              "      <td>NaN</td>\n",
              "      <td>451.283929</td>\n",
              "    </tr>\n",
              "    <tr>\n",
              "      <th>aug/91</th>\n",
              "      <td>526</td>\n",
              "      <td>517.666667</td>\n",
              "      <td>514.166667</td>\n",
              "      <td>NaN</td>\n",
              "      <td>458.755536</td>\n",
              "    </tr>\n",
              "    <tr>\n",
              "      <th>sep/91</th>\n",
              "      <td>487</td>\n",
              "      <td>508.000000</td>\n",
              "      <td>510.833333</td>\n",
              "      <td>NaN</td>\n",
              "      <td>461.579982</td>\n",
              "    </tr>\n",
              "    <tr>\n",
              "      <th>okt/91</th>\n",
              "      <td>524</td>\n",
              "      <td>512.333333</td>\n",
              "      <td>513.500000</td>\n",
              "      <td>NaN</td>\n",
              "      <td>467.821984</td>\n",
              "    </tr>\n",
              "    <tr>\n",
              "      <th>nov/91</th>\n",
              "      <td>575</td>\n",
              "      <td>528.666667</td>\n",
              "      <td>523.166667</td>\n",
              "      <td>NaN</td>\n",
              "      <td>478.539786</td>\n",
              "    </tr>\n",
              "    <tr>\n",
              "      <th>dec/91</th>\n",
              "      <td>558</td>\n",
              "      <td>552.333333</td>\n",
              "      <td>530.166667</td>\n",
              "      <td>509.333333</td>\n",
              "      <td>486.485807</td>\n",
              "    </tr>\n",
              "    <tr>\n",
              "      <th>jan/92</th>\n",
              "      <td>676</td>\n",
              "      <td>603.000000</td>\n",
              "      <td>557.666667</td>\n",
              "      <td>532.250000</td>\n",
              "      <td>505.437227</td>\n",
              "    </tr>\n",
              "    <tr>\n",
              "      <th>feb/92</th>\n",
              "      <td>639</td>\n",
              "      <td>624.333333</td>\n",
              "      <td>576.500000</td>\n",
              "      <td>545.333333</td>\n",
              "      <td>518.793504</td>\n",
              "    </tr>\n",
              "    <tr>\n",
              "      <th>mrt/92</th>\n",
              "      <td>554</td>\n",
              "      <td>623.000000</td>\n",
              "      <td>587.666667</td>\n",
              "      <td>549.250000</td>\n",
              "      <td>522.314153</td>\n",
              "    </tr>\n",
              "  </tbody>\n",
              "</table>\n",
              "</div>"
            ],
            "text/plain": [
              "        Houses Sold        SMA3        SMA6       SMA12         SES\n",
              "Month                                                              \n",
              "jan/91          401         NaN         NaN         NaN  401.000000\n",
              "feb/91          482         NaN         NaN         NaN  409.100000\n",
              "mrt/91          507  463.333333         NaN         NaN  418.890000\n",
              "apr/91          508  499.000000         NaN         NaN  427.801000\n",
              "mei/91          517  510.666667         NaN         NaN  436.720900\n",
              "jun/91          516  513.666667  488.500000         NaN  444.648810\n",
              "jul/91          511  514.666667  506.833333         NaN  451.283929\n",
              "aug/91          526  517.666667  514.166667         NaN  458.755536\n",
              "sep/91          487  508.000000  510.833333         NaN  461.579982\n",
              "okt/91          524  512.333333  513.500000         NaN  467.821984\n",
              "nov/91          575  528.666667  523.166667         NaN  478.539786\n",
              "dec/91          558  552.333333  530.166667  509.333333  486.485807\n",
              "jan/92          676  603.000000  557.666667  532.250000  505.437227\n",
              "feb/92          639  624.333333  576.500000  545.333333  518.793504\n",
              "mrt/92          554  623.000000  587.666667  549.250000  522.314153"
            ]
          },
          "execution_count": 10,
          "metadata": {},
          "output_type": "execute_result"
        }
      ],
      "source": [
        "from statsmodels.tsa.holtwinters import SimpleExpSmoothing\n",
        "\n",
        "# Train the model\n",
        "houses_sold_ses = SimpleExpSmoothing(houses_sold['Houses Sold']).fit(\n",
        "    smoothing_level=0.1, optimized=False)\n",
        "\n",
        "# Add fitted values to the dataframe\n",
        "houses_sold['SES'] = houses_sold_ses.level\n",
        "houses_sold.head(15)"
      ]
    },
    {
      "cell_type": "markdown",
      "metadata": {
        "id": "yd-ZNlqVVn39"
      },
      "source": [
        "Add predictions for Double Exponential Smoothing to the dataframe."
      ]
    },
    {
      "cell_type": "code",
      "execution_count": 11,
      "metadata": {
        "id": "F7eaNuDBUWG_"
      },
      "outputs": [
        {
          "name": "stderr",
          "output_type": "stream",
          "text": [
            "C:\\Users\\vinni\\AppData\\Roaming\\Python\\Python313\\site-packages\\statsmodels\\tsa\\base\\tsa_model.py:559: UserWarning: Could not infer format, so each element will be parsed individually, falling back to `dateutil`. To ensure parsing is consistent and as-expected, please specify a format.\n",
            "  _index = to_datetime(index)\n",
            "C:\\Users\\vinni\\AppData\\Roaming\\Python\\Python313\\site-packages\\statsmodels\\tsa\\base\\tsa_model.py:473: ValueWarning: An unsupported index was provided. As a result, forecasts cannot be generated. To use the model for forecasting, use one of the supported classes of index.\n",
            "  self._init_dates(dates, freq)\n"
          ]
        },
        {
          "data": {
            "text/html": [
              "<div>\n",
              "<style scoped>\n",
              "    .dataframe tbody tr th:only-of-type {\n",
              "        vertical-align: middle;\n",
              "    }\n",
              "\n",
              "    .dataframe tbody tr th {\n",
              "        vertical-align: top;\n",
              "    }\n",
              "\n",
              "    .dataframe thead th {\n",
              "        text-align: right;\n",
              "    }\n",
              "</style>\n",
              "<table border=\"1\" class=\"dataframe\">\n",
              "  <thead>\n",
              "    <tr style=\"text-align: right;\">\n",
              "      <th></th>\n",
              "      <th>Houses Sold</th>\n",
              "      <th>SMA3</th>\n",
              "      <th>SMA6</th>\n",
              "      <th>SMA12</th>\n",
              "      <th>SES</th>\n",
              "      <th>DES</th>\n",
              "    </tr>\n",
              "    <tr>\n",
              "      <th>Month</th>\n",
              "      <th></th>\n",
              "      <th></th>\n",
              "      <th></th>\n",
              "      <th></th>\n",
              "      <th></th>\n",
              "      <th></th>\n",
              "    </tr>\n",
              "  </thead>\n",
              "  <tbody>\n",
              "    <tr>\n",
              "      <th>aug/11</th>\n",
              "      <td>290</td>\n",
              "      <td>296.000000</td>\n",
              "      <td>302.833333</td>\n",
              "      <td>302.000000</td>\n",
              "      <td>319.903776</td>\n",
              "      <td>304.950346</td>\n",
              "    </tr>\n",
              "    <tr>\n",
              "      <th>sep/11</th>\n",
              "      <td>302</td>\n",
              "      <td>295.666667</td>\n",
              "      <td>302.333333</td>\n",
              "      <td>300.833333</td>\n",
              "      <td>318.113398</td>\n",
              "      <td>302.334172</td>\n",
              "    </tr>\n",
              "    <tr>\n",
              "      <th>okt/11</th>\n",
              "      <td>307</td>\n",
              "      <td>299.666667</td>\n",
              "      <td>300.833333</td>\n",
              "      <td>302.916667</td>\n",
              "      <td>317.002058</td>\n",
              "      <td>300.472931</td>\n",
              "    </tr>\n",
              "    <tr>\n",
              "      <th>nov/11</th>\n",
              "      <td>314</td>\n",
              "      <td>307.666667</td>\n",
              "      <td>301.833333</td>\n",
              "      <td>305.166667</td>\n",
              "      <td>316.701853</td>\n",
              "      <td>299.628356</td>\n",
              "    </tr>\n",
              "    <tr>\n",
              "      <th>dec/11</th>\n",
              "      <td>307</td>\n",
              "      <td>309.333333</td>\n",
              "      <td>302.500000</td>\n",
              "      <td>303.166667</td>\n",
              "      <td>315.731667</td>\n",
              "      <td>298.455672</td>\n",
              "    </tr>\n",
              "  </tbody>\n",
              "</table>\n",
              "</div>"
            ],
            "text/plain": [
              "        Houses Sold        SMA3        SMA6       SMA12         SES  \\\n",
              "Month                                                                 \n",
              "aug/11          290  296.000000  302.833333  302.000000  319.903776   \n",
              "sep/11          302  295.666667  302.333333  300.833333  318.113398   \n",
              "okt/11          307  299.666667  300.833333  302.916667  317.002058   \n",
              "nov/11          314  307.666667  301.833333  305.166667  316.701853   \n",
              "dec/11          307  309.333333  302.500000  303.166667  315.731667   \n",
              "\n",
              "               DES  \n",
              "Month               \n",
              "aug/11  304.950346  \n",
              "sep/11  302.334172  \n",
              "okt/11  300.472931  \n",
              "nov/11  299.628356  \n",
              "dec/11  298.455672  "
            ]
          },
          "execution_count": 11,
          "metadata": {},
          "output_type": "execute_result"
        }
      ],
      "source": [
        "from statsmodels.tsa.api import Holt\n",
        "\n",
        "houses_sold_des = Holt(houses_sold['Houses Sold']).fit(\n",
        "    smoothing_level=.1,\n",
        "    smoothing_trend=.2,\n",
        "    optimized=False)\n",
        "\n",
        "houses_sold['DES'] = houses_sold_des.level\n",
        "houses_sold.tail()"
      ]
    },
    {
      "cell_type": "code",
      "execution_count": null,
      "metadata": {
        "id": "H7y7C8yF1dXn"
      },
      "outputs": [],
      "source": []
    },
    {
      "cell_type": "markdown",
      "metadata": {
        "id": "KIr4kmEOVsaL"
      },
      "source": [
        "Calculate the MAE to find the best model. First drop the rows with NaN."
      ]
    },
    {
      "cell_type": "code",
      "execution_count": 13,
      "metadata": {
        "id": "UOrmi8MJx9EI"
      },
      "outputs": [],
      "source": [
        "houses_sold = houses_sold.dropna()"
      ]
    },
    {
      "cell_type": "code",
      "execution_count": 14,
      "metadata": {
        "id": "9q3VBoQCUo8P"
      },
      "outputs": [],
      "source": [
        "columns = ['SMA3', 'SMA6', 'SMA12', 'SES', 'DES']"
      ]
    },
    {
      "cell_type": "code",
      "execution_count": 16,
      "metadata": {
        "id": "hdjo8c2GyLgn"
      },
      "outputs": [
        {
          "name": "stdout",
          "output_type": "stream",
          "text": [
            "MAE SMA3 = 26.431535269709546\n",
            "MAE SMA6 = 36.81120331950208\n",
            "MAE SMA12 = 54.41562932226833\n",
            "MAE SES = 70.77110245423447\n",
            "MAE DES = 51.48756898811065\n"
          ]
        }
      ],
      "source": [
        "from sklearn.metrics import mean_absolute_error,mean_squared_error\n",
        "for c in columns:\n",
        "  print(f'MAE {c} = {mean_absolute_error(houses_sold['Houses Sold'],houses_sold[c])}')"
      ]
    },
    {
      "cell_type": "markdown",
      "metadata": {
        "id": "OzaYuRuogzWf"
      },
      "source": [
        "## Source\n",
        "Business Analytics Data Analysis & Decision Making "
      ]
    }
  ],
  "metadata": {
    "colab": {
      "provenance": []
    },
    "kernelspec": {
      "display_name": "Python 3",
      "language": "python",
      "name": "python3"
    },
    "language_info": {
      "codemirror_mode": {
        "name": "ipython",
        "version": 3
      },
      "file_extension": ".py",
      "mimetype": "text/x-python",
      "name": "python",
      "nbconvert_exporter": "python",
      "pygments_lexer": "ipython3",
      "version": "3.13.1"
    },
    "orig_nbformat": 4
  },
  "nbformat": 4,
  "nbformat_minor": 0
}
