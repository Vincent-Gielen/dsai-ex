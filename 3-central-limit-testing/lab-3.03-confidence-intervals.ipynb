{
  "cells": [
    {
      "cell_type": "markdown",
      "metadata": {
        "id": "M179_lET0jSn"
      },
      "source": [
        "# Lab 3.03 - Confidence intervals\n"
      ]
    },
    {
      "cell_type": "code",
      "execution_count": 1,
      "metadata": {},
      "outputs": [],
      "source": [
        "# Package imports\n",
        "# Package imports for data science\n",
        "import numpy as np\n",
        "import pandas as pd\n",
        "import scipy.stats as stats\n",
        "from pandas.api.types import CategoricalDtype\n",
        "import matplotlib.pyplot as plt\n",
        "import seaborn as sns\n",
        "from statsmodels.graphics.mosaicplot import mosaic"
      ]
    },
    {
      "cell_type": "markdown",
      "metadata": {
        "id": "c0Q7INQrFUZK"
      },
      "source": [
        "## Exercise 1 - rlanders\n",
        "\n",
        "Load the dataset data/rlanders.csv. Use the column Money.  \n",
        "We assume that the values from this sample are normally distributed around a population mean $\\mu$ that is unknown, but that the standard deviation of the population is known, i.e. $\\sigma = 98$.\n"
      ]
    },
    {
      "cell_type": "code",
      "execution_count": 4,
      "metadata": {
        "colab": {
          "base_uri": "https://localhost:8080/",
          "height": 206
        },
        "id": "X8SWRipx3I9_",
        "outputId": "90a9819a-4e5a-4a35-ed25-233824cd0809"
      },
      "outputs": [
        {
          "data": {
            "text/plain": [
              "(250, 6)"
            ]
          },
          "execution_count": 4,
          "metadata": {},
          "output_type": "execute_result"
        }
      ],
      "source": [
        "df = pd.read_csv('https://raw.githubusercontent.com/HoGentTIN/dsai-en-labs/main/data/rlanders.csv').set_index(['ID'])\n",
        "# Show the first few records of the Data Frame\n",
        "df.head()"
      ]
    },
    {
      "cell_type": "markdown",
      "metadata": {
        "id": "micQS-lB-91P"
      },
      "source": [
        "Calculate a 99% confidence interval for the population mean (Answer: [484.191, 516.121])."
      ]
    },
    {
      "cell_type": "code",
      "execution_count": 9,
      "metadata": {
        "id": "9fpkhHkK5W4n"
      },
      "outputs": [
        {
          "name": "stdout",
          "output_type": "stream",
          "text": [
            "Confidence interval: [484.191, 516.121]\n"
          ]
        }
      ],
      "source": [
        "mu = df['Money'].mean()\n",
        "sigma = 98\n",
        "n = df['Money'].count()\n",
        "alpha = 1 - 0.99\n",
        "\n",
        "z = stats.norm.isf(alpha/2)\n",
        "\n",
        "lo = mu - z * sigma / np.sqrt(n)\n",
        "hi = mu + z * sigma / np.sqrt(n)\n",
        "print(\"Confidence interval: [%.3f, %.3f]\" %(lo, hi))"
      ]
    },
    {
      "cell_type": "markdown",
      "metadata": {
        "id": "ECERz_63_By6"
      },
      "source": [
        "Calculate a 95% confidence interval for the population mean. (Answer =  [488.008, 512.304])"
      ]
    },
    {
      "cell_type": "code",
      "execution_count": 10,
      "metadata": {
        "id": "QN2HodqW-aOS"
      },
      "outputs": [
        {
          "name": "stdout",
          "output_type": "stream",
          "text": [
            "Confidence interval: [488.008, 512.304]\n"
          ]
        }
      ],
      "source": [
        "alpha = 1 - 0.95\n",
        "\n",
        "z = stats.norm.isf(alpha/2)\n",
        "\n",
        "lo = mu - z * sigma / np.sqrt(n)\n",
        "hi = mu + z * sigma / np.sqrt(n)\n",
        "print(\"Confidence interval: [%.3f, %.3f]\" %(lo, hi))"
      ]
    },
    {
      "cell_type": "markdown",
      "metadata": {
        "id": "T_tvkbrf_InR"
      },
      "source": [
        "Suppose σ is unknown, calculate a 95% confidence interval for the population mean. (Answer = [487.319, 512.993])"
      ]
    },
    {
      "cell_type": "code",
      "execution_count": 16,
      "metadata": {
        "id": "NHUe10TR_H-I"
      },
      "outputs": [
        {
          "name": "stdout",
          "output_type": "stream",
          "text": [
            "Confidence interval: [487.319, 512.993]\n"
          ]
        }
      ],
      "source": [
        "mu = df['Money'].mean()\n",
        "sigma = df['Money'].std()\n",
        "n = df['Money'].count()\n",
        "alpha = 1 - 0.95\n",
        "\n",
        "t = stats.t.isf(alpha/2, df=n-1)\n",
        "\n",
        "lo = mu - t * sigma / np.sqrt(n)\n",
        "hi = mu + t * sigma / np.sqrt(n)\n",
        "print(\"Confidence interval: [%.3f, %.3f]\" %(lo, hi))"
      ]
    },
    {
      "cell_type": "markdown",
      "metadata": {
        "id": "OPNlp4TS_nU3"
      },
      "source": [
        "Finally, suppose the sample consists of only the first 25 observations in this dataset. Calculate a 95% confidence interval for this situation.  \n",
        "(Answer = [450.291,536.669])"
      ]
    },
    {
      "cell_type": "code",
      "execution_count": 17,
      "metadata": {
        "id": "5_73IDTY_sgO"
      },
      "outputs": [
        {
          "name": "stdout",
          "output_type": "stream",
          "text": [
            "Confidence interval: [450.291, 536.669]\n"
          ]
        }
      ],
      "source": [
        "dstop25 = df['Money'].head(25)\n",
        "mu = dstop25.mean()\n",
        "sigma = dstop25.std()\n",
        "n = dstop25.count()\n",
        "alpha = 1 - 0.95\n",
        "\n",
        "t = stats.t.isf(alpha/2, df=n-1)\n",
        "\n",
        "lo = mu - t * sigma / np.sqrt(n)\n",
        "hi = mu + t * sigma / np.sqrt(n)\n",
        "print(\"Confidence interval: [%.3f, %.3f]\" %(lo, hi))"
      ]
    },
    {
      "cell_type": "markdown",
      "metadata": {},
      "source": [
        "## Exercise 2\n",
        "\n",
        "1. How do you calculate the upper and lower limits of a 95% and 99% confidence interval?\n",
        "2. A 99% confidence interval is [wider/narrower/the same width] as a 95% confidence interval. Why?\n",
        "3. What would a 100% confidence interval look like?"
      ]
    },
    {
      "cell_type": "markdown",
      "metadata": {},
      "source": [
        "\n",
        "\n",
        "2. Answer: Wider\n",
        "Why?\n",
        "A 99% confidence interval means you want to be more certain that the interval contains the true mean. To gain that extra certainty, you must cast a wider net, which results in a larger margin of error. Mathematically, the critical value increases as the confidence level increases.\n",
        "\n",
        "3. Answer:\n",
        "A 100% confidence interval would include all possible values of the population parameter — meaning it would be infinitely wide or span the entire range of possible values for the variable.\n",
        "Why?\n",
        "To be absolutely sure (100%) that the interval contains the true mean, you'd have to include every possible value, which defeats the purpose of making a useful estimate."
      ]
    }
  ],
  "metadata": {
    "colab": {
      "collapsed_sections": [],
      "name": "lab-3-01.ipynb",
      "provenance": []
    },
    "kernelspec": {
      "display_name": "Python 3",
      "name": "python3"
    },
    "language_info": {
      "codemirror_mode": {
        "name": "ipython",
        "version": 3
      },
      "file_extension": ".py",
      "mimetype": "text/x-python",
      "name": "python",
      "nbconvert_exporter": "python",
      "pygments_lexer": "ipython3",
      "version": "3.13.1"
    },
    "orig_nbformat": 4
  },
  "nbformat": 4,
  "nbformat_minor": 0
}
