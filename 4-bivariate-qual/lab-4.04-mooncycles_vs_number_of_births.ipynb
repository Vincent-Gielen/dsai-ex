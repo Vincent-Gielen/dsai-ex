{
  "cells": [
    {
      "cell_type": "code",
      "execution_count": 1,
      "metadata": {
        "id": "r8mKAwuaqq6M"
      },
      "outputs": [],
      "source": [
        "# Importing the necessary packages\n",
        "import numpy as np                                  # \"Scientific computing\"\n",
        "import scipy.stats as stats                         # Statistical tests\n",
        "\n",
        "import random\n",
        "import math\n",
        "\n",
        "import pandas as pd                                 # Data Frame\n",
        "from pandas.api.types import CategoricalDtype\n",
        "\n",
        "import matplotlib.pyplot as plt                     # Basic visualisation\n",
        "from statsmodels.graphics.mosaicplot import mosaic  # Mosaic diagram\n",
        "import seaborn as sns                               # Advanced data visualisation"
      ]
    },
    {
      "cell_type": "markdown",
      "metadata": {
        "id": "9CCuiipV9vOc"
      },
      "source": [
        "A popular wisdom states that more children are born during certain phases of the lunar cycle, especially during the full moon. A classification of the number of births according to the lunar cycle was done in 2005.\n",
        "A sample of the number of births during different lunar cycles is given below.  \n",
        "Is there a relationship between the lunar phase and the number of births?\n"
      ]
    },
    {
      "cell_type": "code",
      "execution_count": 2,
      "metadata": {
        "colab": {
          "base_uri": "https://localhost:8080/",
          "height": 300
        },
        "id": "Ei1O1YMCHLDa",
        "outputId": "cde4536b-43cc-454c-d1a2-f905e69d4bc0"
      },
      "outputs": [
        {
          "data": {
            "text/html": [
              "<div>\n",
              "<style scoped>\n",
              "    .dataframe tbody tr th:only-of-type {\n",
              "        vertical-align: middle;\n",
              "    }\n",
              "\n",
              "    .dataframe tbody tr th {\n",
              "        vertical-align: top;\n",
              "    }\n",
              "\n",
              "    .dataframe thead th {\n",
              "        text-align: right;\n",
              "    }\n",
              "</style>\n",
              "<table border=\"1\" class=\"dataframe\">\n",
              "  <thead>\n",
              "    <tr style=\"text-align: right;\">\n",
              "      <th></th>\n",
              "      <th>lunar_phase</th>\n",
              "      <th>number_of_days</th>\n",
              "      <th>number_of_births</th>\n",
              "    </tr>\n",
              "  </thead>\n",
              "  <tbody>\n",
              "    <tr>\n",
              "      <th>0</th>\n",
              "      <td>new moon</td>\n",
              "      <td>24</td>\n",
              "      <td>7680</td>\n",
              "    </tr>\n",
              "    <tr>\n",
              "      <th>1</th>\n",
              "      <td>young crescent</td>\n",
              "      <td>152</td>\n",
              "      <td>48442</td>\n",
              "    </tr>\n",
              "    <tr>\n",
              "      <th>2</th>\n",
              "      <td>first quarter</td>\n",
              "      <td>24</td>\n",
              "      <td>7579</td>\n",
              "    </tr>\n",
              "    <tr>\n",
              "      <th>3</th>\n",
              "      <td>waxing moon</td>\n",
              "      <td>149</td>\n",
              "      <td>47814</td>\n",
              "    </tr>\n",
              "    <tr>\n",
              "      <th>4</th>\n",
              "      <td>full moon</td>\n",
              "      <td>24</td>\n",
              "      <td>7711</td>\n",
              "    </tr>\n",
              "    <tr>\n",
              "      <th>5</th>\n",
              "      <td>waning moon</td>\n",
              "      <td>150</td>\n",
              "      <td>47595</td>\n",
              "    </tr>\n",
              "    <tr>\n",
              "      <th>6</th>\n",
              "      <td>last quarter</td>\n",
              "      <td>24</td>\n",
              "      <td>7733</td>\n",
              "    </tr>\n",
              "    <tr>\n",
              "      <th>7</th>\n",
              "      <td>ashen moon</td>\n",
              "      <td>152</td>\n",
              "      <td>48230</td>\n",
              "    </tr>\n",
              "  </tbody>\n",
              "</table>\n",
              "</div>"
            ],
            "text/plain": [
              "      lunar_phase  number_of_days  number_of_births\n",
              "0        new moon              24              7680\n",
              "1  young crescent             152             48442\n",
              "2   first quarter              24              7579\n",
              "3     waxing moon             149             47814\n",
              "4       full moon              24              7711\n",
              "5     waning moon             150             47595\n",
              "6    last quarter              24              7733\n",
              "7      ashen moon             152             48230"
            ]
          },
          "execution_count": 2,
          "metadata": {},
          "output_type": "execute_result"
        }
      ],
      "source": [
        "dfmoon = pd.DataFrame(data={'lunar_phase': ['new moon', 'young crescent', 'first quarter', 'waxing moon', 'full moon', 'waning moon', 'last quarter', 'ashen moon'],\n",
        "                            'number_of_days': [24, 152, 24, 149, 24, 150, 24, 152],\n",
        "                            'number_of_births': [7680, 48442, 7579, 47814, 7711, 47595, 7733, 48230]})\n",
        "\n",
        "dfmoon.head(10)\n"
      ]
    },
    {
      "cell_type": "code",
      "execution_count": 11,
      "metadata": {
        "id": "SAdBpsYzqrXQ"
      },
      "outputs": [
        {
          "name": "stdout",
          "output_type": "stream",
          "text": [
            "      lunar_phase  number_of_days  number_of_births  expected_births\n",
            "0        new moon              24              7680      7649.236052\n",
            "1  young crescent             152             48442     48445.161660\n",
            "2   first quarter              24              7579      7649.236052\n",
            "3     waxing moon             149             47814     47489.007153\n",
            "4       full moon              24              7711      7649.236052\n",
            "Chi-squared Statistic: 6.31\n",
            "P-value: 0.5039\n"
          ]
        }
      ],
      "source": [
        "# Total births and days\n",
        "total_births = dfmoon['number_of_births'].sum()\n",
        "total_days = dfmoon['number_of_days'].sum()\n",
        "\n",
        "# Expected births proportional to number of days\n",
        "dfmoon['expected_births'] = dfmoon['number_of_days'] * (total_births / total_days)\n",
        "print(dfmoon.head())\n",
        "\n",
        "# Chi-squared test\n",
        "chi2_stat, p_value = stats.chisquare(f_obs=dfmoon['number_of_births'], f_exp=dfmoon['expected_births'])\n",
        "\n",
        "print(f\"Chi-squared Statistic: {chi2_stat:.2f}\")\n",
        "print(f\"P-value: {p_value:.4f}\")"
      ]
    }
  ],
  "metadata": {
    "colab": {
      "provenance": []
    },
    "kernelspec": {
      "display_name": "Python 3",
      "name": "python3"
    },
    "language_info": {
      "codemirror_mode": {
        "name": "ipython",
        "version": 3
      },
      "file_extension": ".py",
      "mimetype": "text/x-python",
      "name": "python",
      "nbconvert_exporter": "python",
      "pygments_lexer": "ipython3",
      "version": "3.13.1"
    }
  },
  "nbformat": 4,
  "nbformat_minor": 0
}
