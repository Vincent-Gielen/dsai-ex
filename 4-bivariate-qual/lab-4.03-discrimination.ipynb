{
  "cells": [
    {
      "cell_type": "markdown",
      "metadata": {
        "id": "xDBTRYzLSeM_"
      },
      "source": [
        "# Lab 4.03 - Bivariate Analysis of Qualitative Data\n"
      ]
    },
    {
      "cell_type": "code",
      "execution_count": 1,
      "metadata": {
        "id": "j8I-eUfMSeNF"
      },
      "outputs": [],
      "source": [
        "# Importing the necessary packages\n",
        "import numpy as np                                  # \"Scientific computing\"\n",
        "import scipy.stats as stats                         # Statistical tests\n",
        "\n",
        "import pandas as pd                                 # Data Frame\n",
        "from pandas.api.types import CategoricalDtype\n",
        "\n",
        "import matplotlib.pyplot as plt                     # Basic visualisation\n",
        "from statsmodels.graphics.mosaicplot import mosaic  # Mosaic diagram\n",
        "import seaborn as sns                               # Advanced data visualisation"
      ]
    },
    {
      "cell_type": "markdown",
      "metadata": {
        "id": "YBt7tOyqovNc"
      },
      "source": [
        "## Exercise 3 - Discrimination in schoolteacher hiring\n",
        "\n",
        "African Americans in a St. Louis suburb sued the city \n",
        "claiming they were discriminated against in schoolteacher hiring. Of the city's population, 5.7% were \n",
        "African American; of 405 teachers in the school system, 15 were African American. Set up appropriate \n",
        "hypotheses and determine whether African Americans \n",
        "are underrepresented.  \n",
        "Calculate the standardized residuals. \n",
        "\n",
        "Results of the main calculations:\n",
        "- Chi-squared        χ² = 3.0027\n",
        "- Critical value      g = 3.8415\n",
        "- p-value             p = 0.0831\n",
        "- standardized residuals for african american = -1.7328 > - 2"
      ]
    },
    {
      "cell_type": "code",
      "execution_count": 12,
      "metadata": {
        "id": "VxX_Gzrustbn"
      },
      "outputs": [
        {
          "name": "stdout",
          "output_type": "stream",
          "text": [
            "Chi-squared        χ² = 3.0027\n",
            "Critical value      g = 3.8415\n",
            "p-value             p = 0.0831\n",
            "0.0831 < 0.05 en 3.0027 < 3.8415, dus we verwerpen H0 niet\n"
          ]
        }
      ],
      "source": [
        "observed =   np.array([   15,  390])\n",
        "expected_p = np.array([  0.057, 0.943])\n",
        "alpha = 0.05               # Significance level\n",
        "n = sum(observed)          # Sample size\n",
        "k = len(observed)          # Number of categories\n",
        "dof = k - 1                # Degrees of freedom\n",
        "expected = expected_p * n  # Expected absolute frequencies in the sample\n",
        "g = stats.chi2.isf(alpha, df=dof)  # Critical value\n",
        "\n",
        "# Goodness-of-fit-test in Python:\n",
        "chi2, p = stats.chisquare(f_obs=observed, f_exp=expected)\n",
        "\n",
        "#print(\"Significance level  ⍺ = %.2f\" % alpha)\n",
        "#print(\"Sample size         n = %d\" % n)\n",
        "#print(\"k = %d; df = %d\" % (k, dof))\n",
        "print(\"Chi-squared        χ² = %.4f\" % chi2)\n",
        "print(\"Critical value      g = %.4f\" % g)\n",
        "print(\"p-value             p = %.4f\" % p)\n",
        "\n",
        "print(f\"{p:.4f} < {alpha} en {chi2:.4f} < {g:.4f}, dus we verwerpen H0 niet\")"
      ]
    },
    {
      "cell_type": "code",
      "execution_count": 14,
      "metadata": {
        "id": "V20Cup7Istbo"
      },
      "outputs": [
        {
          "data": {
            "text/plain": [
              "array([-1.73284309,  1.73284309])"
            ]
          },
          "execution_count": 14,
          "metadata": {},
          "output_type": "execute_result"
        }
      ],
      "source": [
        "(observed - expected) / np.sqrt(expected * (1-expected_p))"
      ]
    },
    {
      "cell_type": "code",
      "execution_count": null,
      "metadata": {
        "id": "2iuZ0kBHZKJt"
      },
      "outputs": [],
      "source": []
    }
  ],
  "metadata": {
    "colab": {
      "provenance": []
    },
    "kernelspec": {
      "display_name": "Python 3",
      "language": "python",
      "name": "python3"
    },
    "language_info": {
      "codemirror_mode": {
        "name": "ipython",
        "version": 3
      },
      "file_extension": ".py",
      "mimetype": "text/x-python",
      "name": "python",
      "nbconvert_exporter": "python",
      "pygments_lexer": "ipython3",
      "version": "3.13.1"
    },
    "orig_nbformat": 4
  },
  "nbformat": 4,
  "nbformat_minor": 0
}
