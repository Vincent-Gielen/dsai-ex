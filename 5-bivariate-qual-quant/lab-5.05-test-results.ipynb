{
  "cells": [
    {
      "cell_type": "markdown",
      "metadata": {
        "id": "RzEWLSEPt30W"
      },
      "source": [
        "# Lab 5.05 - Two-sample t-test"
      ]
    },
    {
      "cell_type": "code",
      "execution_count": 2,
      "metadata": {
        "id": "QnEzGI2its2h"
      },
      "outputs": [],
      "source": [
        "# Package imports for data science\n",
        "import numpy as np\n",
        "import pandas as pd\n",
        "import scipy.stats as stats\n",
        "from pandas.api.types import CategoricalDtype\n",
        "from sklearn.linear_model import LinearRegression\n",
        "import matplotlib.pyplot as plt\n",
        "import seaborn as sns\n",
        "from statsmodels.graphics.mosaicplot import mosaic\n",
        "import math"
      ]
    },
    {
      "cell_type": "markdown",
      "metadata": {},
      "source": [
        "## Exercise 5 - Comparing test results between groups\n",
        "\n",
        "A large number of students participated in a test that was organized in several successive sessions. Because creating a separate test for each session was practically unfeasible, the same questions were used in each session. Consequently, there is a danger that students could pass on information about the test to the groups that still had to come after. Later groups then have an advantage over the first. However, this also evident from the test scores?\n",
        "\n",
        "The file `test-results.csv` contains all results of the test. The score is a floating point number with maximum 40. If the score field is empty, this indicates a student that was absent. Each session is identified by a letter, in the order of the consecutive sessions.\n",
        "\n",
        "- Day 1: sessions A, B\n",
        "- Day 2: sessions C, D, E\n",
        "- Day 3: sessions F, G, H\n",
        "\n",
        "Sessions A and B were conducted on a different campus, so it could be assumed that there is little to no communication with students from other sessions.\n",
        "\n",
        "If information was passed on successfully, we expect the scores of later groups to be significantly better than the first.\n",
        "\n",
        "**Note** that the reverse reasoning does not necessarily hold: if it turns out that the result of later sessions is indeed significantly better, this does not necessarily mean that the (only) cause is passing on of information. There may also be other causes (e.g. “weaker” class groups happen to be scheduled earlier).\n",
        "\n",
        "1. Explore the data. Calculate the appropriate measures for central tendency and dispersion for the full dataset and for each session individually.\n",
        "2. Plot a bar graph of the average score per session with error bars denoting one standard deviation.\n",
        "3. Make a box plot of the scores divided per group. Compare the sessions listed below. Do you think there is a significant difference between the results? Can we suspect that information has been passed on?\n",
        "    - A and B\n",
        "    - C, D and E\n",
        "    - F, G and H\n",
        "    - C and H\n",
        "    - A and H\n",
        "4. Use an appropriate statistical test to determine whether the differences between the groups listed above are also *significant*. Can we conclude that the later groups score better or not?"
      ]
    },
    {
      "cell_type": "code",
      "execution_count": 3,
      "metadata": {},
      "outputs": [
        {
          "data": {
            "text/html": [
              "<div>\n",
              "<style scoped>\n",
              "    .dataframe tbody tr th:only-of-type {\n",
              "        vertical-align: middle;\n",
              "    }\n",
              "\n",
              "    .dataframe tbody tr th {\n",
              "        vertical-align: top;\n",
              "    }\n",
              "\n",
              "    .dataframe thead th {\n",
              "        text-align: right;\n",
              "    }\n",
              "</style>\n",
              "<table border=\"1\" class=\"dataframe\">\n",
              "  <thead>\n",
              "    <tr style=\"text-align: right;\">\n",
              "      <th></th>\n",
              "      <th>Session</th>\n",
              "      <th>Score</th>\n",
              "    </tr>\n",
              "  </thead>\n",
              "  <tbody>\n",
              "    <tr>\n",
              "      <th>0</th>\n",
              "      <td>A</td>\n",
              "      <td>12.5</td>\n",
              "    </tr>\n",
              "    <tr>\n",
              "      <th>1</th>\n",
              "      <td>A</td>\n",
              "      <td>7.5</td>\n",
              "    </tr>\n",
              "    <tr>\n",
              "      <th>3</th>\n",
              "      <td>A</td>\n",
              "      <td>21.0</td>\n",
              "    </tr>\n",
              "    <tr>\n",
              "      <th>4</th>\n",
              "      <td>A</td>\n",
              "      <td>10.0</td>\n",
              "    </tr>\n",
              "    <tr>\n",
              "      <th>5</th>\n",
              "      <td>A</td>\n",
              "      <td>20.5</td>\n",
              "    </tr>\n",
              "    <tr>\n",
              "      <th>...</th>\n",
              "      <td>...</td>\n",
              "      <td>...</td>\n",
              "    </tr>\n",
              "    <tr>\n",
              "      <th>198</th>\n",
              "      <td>H</td>\n",
              "      <td>22.0</td>\n",
              "    </tr>\n",
              "    <tr>\n",
              "      <th>199</th>\n",
              "      <td>H</td>\n",
              "      <td>26.5</td>\n",
              "    </tr>\n",
              "    <tr>\n",
              "      <th>200</th>\n",
              "      <td>H</td>\n",
              "      <td>22.5</td>\n",
              "    </tr>\n",
              "    <tr>\n",
              "      <th>201</th>\n",
              "      <td>H</td>\n",
              "      <td>22.0</td>\n",
              "    </tr>\n",
              "    <tr>\n",
              "      <th>202</th>\n",
              "      <td>H</td>\n",
              "      <td>27.0</td>\n",
              "    </tr>\n",
              "  </tbody>\n",
              "</table>\n",
              "<p>195 rows × 2 columns</p>\n",
              "</div>"
            ],
            "text/plain": [
              "    Session  Score\n",
              "0         A   12.5\n",
              "1         A    7.5\n",
              "3         A   21.0\n",
              "4         A   10.0\n",
              "5         A   20.5\n",
              "..      ...    ...\n",
              "198       H   22.0\n",
              "199       H   26.5\n",
              "200       H   22.5\n",
              "201       H   22.0\n",
              "202       H   27.0\n",
              "\n",
              "[195 rows x 2 columns]"
            ]
          },
          "execution_count": 3,
          "metadata": {},
          "output_type": "execute_result"
        }
      ],
      "source": [
        "scoresdf = pd.read_csv(\"../data/test-results.csv\")\n",
        "scoresdf.head()\n",
        "scoresdf.dropna()"
      ]
    },
    {
      "cell_type": "code",
      "execution_count": 27,
      "metadata": {},
      "outputs": [
        {
          "name": "stdout",
          "output_type": "stream",
          "text": [
            "A : 13.1176\n",
            "B : 17.2143\n",
            "C : 18.8000\n",
            "D : 22.4519\n",
            "E : 18.8523\n",
            "F : 17.8148\n",
            "G : 18.7362\n",
            "H : 20.9464\n",
            "Average of whole group: 18.7890\n",
            "Std of whole group: 7.0140\n"
          ]
        }
      ],
      "source": [
        "def groepgem(groep):\n",
        "  gem = scoresdf[scoresdf['Session'] == groep]['Score'].mean()\n",
        "  return gem\n",
        "\n",
        "groepen = scoresdf['Session'].unique()\n",
        "avgScores = {}\n",
        "\n",
        "for groep in groepen:\n",
        "  print(f\"{groep} : {groepgem(groep):.4f}\")\n",
        "  avgScores[groep] = groepgem(groep)\n",
        "\n",
        "groupavg = scoresdf['Score'].mean()\n",
        "groupstd = scoresdf['Score'].std()\n",
        "print(f\"Average of whole group: {groupavg:.4f}\")\n",
        "print(f\"Std of whole group: {groustd:.4f}\")\n",
        "  "
      ]
    },
    {
      "cell_type": "code",
      "execution_count": 32,
      "metadata": {},
      "outputs": [
        {
          "data": {
            "image/png": "[encoded data removed]",
            "text/plain": [
              "<Figure size 800x500 with 1 Axes>"
            ]
          },
          "metadata": {},
          "output_type": "display_data"
        }
      ],
      "source": [
        "avg_df = pd.DataFrame(list(avgScores.items()), columns=['Session', 'AverageScore'])\n",
        "stds = scoresdf.groupby('Session')['Score'].std().reindex(avg_df['Session']).values\n",
        "\n",
        "plt.figure(figsize=(8, 5))\n",
        "sns.barplot(data=avg_df, x='Session', y='AverageScore', capsize=0.2)\n",
        "plt.ylabel('Average Score')\n",
        "plt.title('Average Score per Session with Std Dev Error Bars')\n",
        "plt.show()"
      ]
    },
    {
      "cell_type": "markdown",
      "metadata": {},
      "source": [
        "### Answers\n",
        "\n",
        "The average score in each session was:\n",
        "\n",
        "| Session | Average score |\n",
        "| :-----: | :------------ |\n",
        "|    A    | 13.1          |\n",
        "|    B    | 17.2          |\n",
        "|    C    | 18.8          |\n",
        "|    D    | 22.5          |\n",
        "|    E    | 18.9          |\n",
        "|    F    | 17.8          |\n",
        "|    G    | 18.7          |\n",
        "|    H    | 20.9          |\n",
        "\n",
        "The table below shows the p-value of a one-sided t-test of two samples between the given sessions:\n",
        "\n",
        "| Alt. hypothesis                       | p-value   |\n",
        "| :------------------------------------ | :-------- |\n",
        "| $\\overline{x}_A - \\overline{x}_B < 0$ | 0.05356   |\n",
        "| $\\overline{x}_C - \\overline{x}_D < 0$ | 0.01343   |\n",
        "| $\\overline{x}_E - \\overline{x}_D < 0$ | 0.02356   |\n",
        "| $\\overline{x}_F - \\overline{x}_H < 0$ | 0.05767   |\n",
        "| $\\overline{x}_G - \\overline{x}_H < 0$ | 0.1156    |\n",
        "| $\\overline{x}_C - \\overline{x}_H < 0$ | 0.1463    |\n",
        "| $\\overline{x}_A - \\overline{x}_H < 0$ | 0.0003289 |\n",
        "\n",
        "Remarks:\n",
        "\n",
        "- The difference between **session A and B**, although it seems quite large, is insignificant for $\\alpha = 0.05$\n",
        "- **Sessions C, D and E**:\n",
        "  - Session D had the highest score. Sessions C and E had similar results, at least the average score was similar.\n",
        "  - Session D has a significantly higher score than either sessions C and E. However, session E came _after_ D, so the cause is definitely not the passing of information.\n",
        "- The differences between **sessions F, G and H** insignificant\n",
        "- **Sessions C and H** are respectively the first and the last session on the same campus. So, if there is an opportunity to pass on information about the test, there's definitely enough time between these two sessions. However, the difference is not significant!\n",
        "- The difference between **sessions A and H** are significant, but since they took place on different campuses, it is questionable that this difference is caused by passing on information."
      ]
    }
  ],
  "metadata": {
    "colab": {
      "provenance": []
    },
    "kernelspec": {
      "display_name": "Python 3",
      "name": "python3"
    },
    "language_info": {
      "codemirror_mode": {
        "name": "ipython",
        "version": 3
      },
      "file_extension": ".py",
      "mimetype": "text/x-python",
      "name": "python",
      "nbconvert_exporter": "python",
      "pygments_lexer": "ipython3",
      "version": "3.13.1"
    }
  },
  "nbformat": 4,
  "nbformat_minor": 0
}
