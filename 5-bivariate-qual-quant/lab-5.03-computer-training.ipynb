{
  "cells": [
    {
      "cell_type": "markdown",
      "metadata": {
        "id": "RzEWLSEPt30W"
      },
      "source": [
        "# Lab 5.03 - Two-sample t-test"
      ]
    },
    {
      "cell_type": "code",
      "execution_count": 1,
      "metadata": {
        "id": "QnEzGI2its2h"
      },
      "outputs": [],
      "source": [
        "# Package imports\n",
        "import numpy as np                                  # \"Scientific computing\"\n",
        "import scipy.stats as stats                         # Statistical tests\n",
        "\n",
        "import pandas as pd                                 # Dataframe\n",
        "import matplotlib.pyplot as plt                     # Basic visualisation\n",
        "from statsmodels.graphics.mosaicplot import mosaic  # Mosaic plot\n",
        "import seaborn as sns                               # Advanced dataviz"
      ]
    },
    {
      "cell_type": "markdown",
      "metadata": {
        "id": "puRtMm1XxuT7"
      },
      "source": [
        "## Exercise 3 - effect of computer skills training\n",
        "\n",
        "The managing partner of a major consulting firm is trying to assess the effectiveness of expensive computer skills training given to all new entry-level professionals. In an effort to make such an assessment, \n",
        "she administers a computer skills test immediately before and after the training program to each of 40 randomly chosen employees. The pretraining and \n",
        "posttraining scores of these 40 individuals are recorded. \n",
        "\n",
        "1. Do the given sample data support the claim at the 5% significance level that the organization's training program is increasing the new \n",
        "employee's working knowledge of computing? First make a boxplot\n",
        "2. Calculate Cohen's *d* to know the effect size\n",
        "3. There are many alternatives to Cohen's *d*. One of those alternatives is Glass' Δ\n",
        "$$\\Delta = \\frac{|\\overline{x}_1 - \\overline{x}_2|}{s_1}$$\n",
        "Glass's delta is defined as the mean difference between the experimental and control group divided by the standard deviation of the control group. Calculate Glass's delta.\n",
        "\n",
        "\n",
        "A few results\n",
        "1. pvalue = 2.2653e-09 < 0.05 => the training program is increasing the new employees's working knowledge of computing\n",
        "2. Cohen's *d* = 1.619: very large effect size\n",
        "3. Glass's delta = 1.241\n",
        "\n",
        "![image.png](data:image/png;base64,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)\n"
      ]
    },
    {
      "cell_type": "code",
      "execution_count": 2,
      "metadata": {
        "colab": {
          "base_uri": "https://localhost:8080/",
          "height": 206
        },
        "id": "4isvIiBN2pp-",
        "outputId": "8f3fdef0-813b-4040-c354-fdb937826519"
      },
      "outputs": [
        {
          "data": {
            "text/html": [
              "<div>\n",
              "<style scoped>\n",
              "    .dataframe tbody tr th:only-of-type {\n",
              "        vertical-align: middle;\n",
              "    }\n",
              "\n",
              "    .dataframe tbody tr th {\n",
              "        vertical-align: top;\n",
              "    }\n",
              "\n",
              "    .dataframe thead th {\n",
              "        text-align: right;\n",
              "    }\n",
              "</style>\n",
              "<table border=\"1\" class=\"dataframe\">\n",
              "  <thead>\n",
              "    <tr style=\"text-align: right;\">\n",
              "      <th></th>\n",
              "      <th>Employee</th>\n",
              "      <th>Score Before</th>\n",
              "      <th>Score After</th>\n",
              "    </tr>\n",
              "  </thead>\n",
              "  <tbody>\n",
              "    <tr>\n",
              "      <th>0</th>\n",
              "      <td>1</td>\n",
              "      <td>84</td>\n",
              "      <td>84</td>\n",
              "    </tr>\n",
              "    <tr>\n",
              "      <th>1</th>\n",
              "      <td>2</td>\n",
              "      <td>66</td>\n",
              "      <td>85</td>\n",
              "    </tr>\n",
              "    <tr>\n",
              "      <th>2</th>\n",
              "      <td>3</td>\n",
              "      <td>84</td>\n",
              "      <td>87</td>\n",
              "    </tr>\n",
              "    <tr>\n",
              "      <th>3</th>\n",
              "      <td>4</td>\n",
              "      <td>57</td>\n",
              "      <td>84</td>\n",
              "    </tr>\n",
              "    <tr>\n",
              "      <th>4</th>\n",
              "      <td>5</td>\n",
              "      <td>67</td>\n",
              "      <td>88</td>\n",
              "    </tr>\n",
              "  </tbody>\n",
              "</table>\n",
              "</div>"
            ],
            "text/plain": [
              "   Employee  Score Before  Score After\n",
              "0         1            84           84\n",
              "1         2            66           85\n",
              "2         3            84           87\n",
              "3         4            57           84\n",
              "4         5            67           88"
            ]
          },
          "execution_count": 2,
          "metadata": {},
          "output_type": "execute_result"
        }
      ],
      "source": [
        "computer_skills = pd.read_csv('https://raw.githubusercontent.com/HoGentTIN/dsai-labs/main/data/Computer%20Skills.csv', delimiter=';')\n",
        "computer_skills.head()"
      ]
    },
    {
      "cell_type": "code",
      "execution_count": 5,
      "metadata": {},
      "outputs": [
        {
          "data": {
            "image/png": "[encoded data removed]",
            "text/plain": [
              "<Figure size 640x480 with 1 Axes>"
            ]
          },
          "metadata": {},
          "output_type": "display_data"
        }
      ],
      "source": [
        "# Sample:\n",
        "before = computer_skills['Score Before']\n",
        "after = computer_skills['Score After']\n",
        "# Visualization:\n",
        "sns.boxplot(\n",
        "    data=pd.DataFrame({'Score before': before, 'Score after': after}),\n",
        "    orient='v');"
      ]
    },
    {
      "cell_type": "code",
      "execution_count": 6,
      "metadata": {},
      "outputs": [
        {
          "data": {
            "text/plain": [
              "TtestResult(statistic=np.float64(-7.494583135258961), pvalue=np.float64(2.265324293633084e-09), df=np.int64(39))"
            ]
          },
          "execution_count": 6,
          "metadata": {},
          "output_type": "execute_result"
        }
      ],
      "source": [
        "stats.ttest_rel(before, after, alternative='less')"
      ]
    },
    {
      "cell_type": "code",
      "execution_count": 7,
      "metadata": {},
      "outputs": [
        {
          "data": {
            "text/plain": [
              "np.float64(1.61935192361693)"
            ]
          },
          "execution_count": 7,
          "metadata": {},
          "output_type": "execute_result"
        }
      ],
      "source": [
        "def cohen_d(a, b):\n",
        "    na = len(a)\n",
        "    nb = len(b)\n",
        "    pooled_sd = np.sqrt( ((na-1) * np.var(a, ddof=1) +\n",
        "                          (nb-1) * np.var(b, ddof=1)) / (na + nb - 2) )\n",
        "    return (np.mean(b) - np.mean(a)) / pooled_sd\n",
        "\n",
        "# Effect size of additives in gasoline:\n",
        "cohen_d(before, after)"
      ]
    },
    {
      "cell_type": "code",
      "execution_count": 9,
      "metadata": {},
      "outputs": [
        {
          "data": {
            "text/plain": [
              "np.float64(1.2405630189411778)"
            ]
          },
          "execution_count": 9,
          "metadata": {},
          "output_type": "execute_result"
        }
      ],
      "source": [
        "#Glass's delta is defined as the mean difference between the experimental \n",
        "# and control group divided by the standard deviation of the control group. \n",
        "# Calculate Glass's delta.\n",
        "\n",
        "before_mean = before.mean()\n",
        "after_mean = after.mean()\n",
        "before_std = before.std()\n",
        "\n",
        "delta = (before_mean - after_mean) / before_std\n",
        "abs(delta)"
      ]
    }
  ],
  "metadata": {
    "colab": {
      "provenance": []
    },
    "kernelspec": {
      "display_name": "Python 3",
      "name": "python3"
    },
    "language_info": {
      "codemirror_mode": {
        "name": "ipython",
        "version": 3
      },
      "file_extension": ".py",
      "mimetype": "text/x-python",
      "name": "python",
      "nbconvert_exporter": "python",
      "pygments_lexer": "ipython3",
      "version": "3.13.1"
    }
  },
  "nbformat": 4,
  "nbformat_minor": 0
}
