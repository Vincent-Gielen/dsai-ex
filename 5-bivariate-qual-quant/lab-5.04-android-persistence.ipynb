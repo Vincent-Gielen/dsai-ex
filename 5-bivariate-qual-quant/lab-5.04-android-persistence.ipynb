{
  "cells": [
    {
      "cell_type": "markdown",
      "metadata": {
        "id": "RzEWLSEPt30W"
      },
      "source": [
        "# Lab 5.04 - Two-sample t-test"
      ]
    },
    {
      "cell_type": "code",
      "execution_count": 1,
      "metadata": {
        "id": "QnEzGI2its2h"
      },
      "outputs": [],
      "source": [
        "# Package imports\n",
        "import numpy as np                                  # \"Scientific computing\"\n",
        "import scipy.stats as stats                         # Statistical tests\n",
        "\n",
        "import pandas as pd                                 # Dataframe\n",
        "import matplotlib.pyplot as plt                     # Basic visualisation\n",
        "from statsmodels.graphics.mosaicplot import mosaic  # Mosaic plot\n",
        "import seaborn as sns                               # Advanced dataviz"
      ]
    },
    {
      "cell_type": "markdown",
      "metadata": {},
      "source": [
        "## Exercise 4 - Android Persistence libraries performance comparison\n",
        "\n",
        "We analyzed the results of performance measurements for Android persistence libraries (Akin, 2016). Experiments were performed for different combinations of *DataSize* (Small, Medium, Large) and *PersistenceType* (GreenDAO, Realm, SharedPreferences, SQLite). For each data size, we were able to determine which persistence type yielded the best results.\n",
        "\n",
        "Now we will verify if the best persistence type at first glance is also *significantly* better than the competition.\n",
        "\n",
        "Specifically: Using a two-sample test for each data size, verify that the mean of the best persistence type is significantly lower than the mean of the second best and the worst scoring type.\n",
        "\n",
        "Can we maintain the conclusion that for a given data size, one persistence type is best, i.e. is significantly better than any other persistence type?"
      ]
    },
    {
      "cell_type": "code",
      "execution_count": null,
      "metadata": {},
      "outputs": [
        {
          "data": {
            "text/html": [
              "<div>\n",
              "<style scoped>\n",
              "    .dataframe tbody tr th:only-of-type {\n",
              "        vertical-align: middle;\n",
              "    }\n",
              "\n",
              "    .dataframe tbody tr th {\n",
              "        vertical-align: top;\n",
              "    }\n",
              "\n",
              "    .dataframe thead th {\n",
              "        text-align: right;\n",
              "    }\n",
              "</style>\n",
              "<table border=\"1\" class=\"dataframe\">\n",
              "  <thead>\n",
              "    <tr style=\"text-align: right;\">\n",
              "      <th></th>\n",
              "      <th>Time</th>\n",
              "      <th>PersistenceType</th>\n",
              "      <th>DataSize</th>\n",
              "    </tr>\n",
              "  </thead>\n",
              "  <tbody>\n",
              "    <tr>\n",
              "      <th>0</th>\n",
              "      <td>1.81</td>\n",
              "      <td>Sharedpreferences</td>\n",
              "      <td>Small</td>\n",
              "    </tr>\n",
              "    <tr>\n",
              "      <th>1</th>\n",
              "      <td>1.35</td>\n",
              "      <td>Sharedpreferences</td>\n",
              "      <td>Small</td>\n",
              "    </tr>\n",
              "    <tr>\n",
              "      <th>2</th>\n",
              "      <td>1.84</td>\n",
              "      <td>Sharedpreferences</td>\n",
              "      <td>Small</td>\n",
              "    </tr>\n",
              "    <tr>\n",
              "      <th>3</th>\n",
              "      <td>1.54</td>\n",
              "      <td>Sharedpreferences</td>\n",
              "      <td>Small</td>\n",
              "    </tr>\n",
              "    <tr>\n",
              "      <th>4</th>\n",
              "      <td>1.81</td>\n",
              "      <td>Sharedpreferences</td>\n",
              "      <td>Small</td>\n",
              "    </tr>\n",
              "    <tr>\n",
              "      <th>...</th>\n",
              "      <td>...</td>\n",
              "      <td>...</td>\n",
              "      <td>...</td>\n",
              "    </tr>\n",
              "    <tr>\n",
              "      <th>295</th>\n",
              "      <td>12.12</td>\n",
              "      <td>Realm</td>\n",
              "      <td>Large</td>\n",
              "    </tr>\n",
              "    <tr>\n",
              "      <th>296</th>\n",
              "      <td>10.85</td>\n",
              "      <td>Realm</td>\n",
              "      <td>Large</td>\n",
              "    </tr>\n",
              "    <tr>\n",
              "      <th>297</th>\n",
              "      <td>12.32</td>\n",
              "      <td>Realm</td>\n",
              "      <td>Large</td>\n",
              "    </tr>\n",
              "    <tr>\n",
              "      <th>298</th>\n",
              "      <td>12.04</td>\n",
              "      <td>Realm</td>\n",
              "      <td>Large</td>\n",
              "    </tr>\n",
              "    <tr>\n",
              "      <th>299</th>\n",
              "      <td>10.53</td>\n",
              "      <td>Realm</td>\n",
              "      <td>Large</td>\n",
              "    </tr>\n",
              "  </tbody>\n",
              "</table>\n",
              "<p>300 rows × 3 columns</p>\n",
              "</div>"
            ],
            "text/plain": [
              "      Time    PersistenceType DataSize\n",
              "0     1.81  Sharedpreferences    Small\n",
              "1     1.35  Sharedpreferences    Small\n",
              "2     1.84  Sharedpreferences    Small\n",
              "3     1.54  Sharedpreferences    Small\n",
              "4     1.81  Sharedpreferences    Small\n",
              "..     ...                ...      ...\n",
              "295  12.12              Realm    Large\n",
              "296  10.85              Realm    Large\n",
              "297  12.32              Realm    Large\n",
              "298  12.04              Realm    Large\n",
              "299  10.53              Realm    Large\n",
              "\n",
              "[300 rows x 3 columns]"
            ]
          },
          "execution_count": 16,
          "metadata": {},
          "output_type": "execute_result"
        }
      ],
      "source": [
        "android = pd.read_csv('../data/android_persistence_cpu.csv', sep=';')\n",
        "android['PersistenceType'].value_counts()"
      ]
    },
    {
      "cell_type": "code",
      "execution_count": 25,
      "metadata": {},
      "outputs": [
        {
          "data": {
            "text/html": [
              "<div>\n",
              "<style scoped>\n",
              "    .dataframe tbody tr th:only-of-type {\n",
              "        vertical-align: middle;\n",
              "    }\n",
              "\n",
              "    .dataframe tbody tr th {\n",
              "        vertical-align: top;\n",
              "    }\n",
              "\n",
              "    .dataframe thead th {\n",
              "        text-align: right;\n",
              "    }\n",
              "</style>\n",
              "<table border=\"1\" class=\"dataframe\">\n",
              "  <thead>\n",
              "    <tr style=\"text-align: right;\">\n",
              "      <th></th>\n",
              "      <th>DataSize</th>\n",
              "      <th>PersistenceType</th>\n",
              "      <th>count</th>\n",
              "      <th>mean</th>\n",
              "      <th>std</th>\n",
              "      <th>min</th>\n",
              "      <th>25%</th>\n",
              "      <th>50%</th>\n",
              "      <th>75%</th>\n",
              "      <th>max</th>\n",
              "    </tr>\n",
              "  </thead>\n",
              "  <tbody>\n",
              "    <tr>\n",
              "      <th>0</th>\n",
              "      <td>Large</td>\n",
              "      <td>GreenDAO</td>\n",
              "      <td>30.0</td>\n",
              "      <td>12.110333</td>\n",
              "      <td>0.868461</td>\n",
              "      <td>10.38</td>\n",
              "      <td>11.4775</td>\n",
              "      <td>12.045</td>\n",
              "      <td>12.7000</td>\n",
              "      <td>13.56</td>\n",
              "    </tr>\n",
              "    <tr>\n",
              "      <th>1</th>\n",
              "      <td>Large</td>\n",
              "      <td>Realm</td>\n",
              "      <td>30.0</td>\n",
              "      <td>10.651667</td>\n",
              "      <td>1.405990</td>\n",
              "      <td>7.68</td>\n",
              "      <td>9.6700</td>\n",
              "      <td>10.660</td>\n",
              "      <td>11.8275</td>\n",
              "      <td>13.36</td>\n",
              "    </tr>\n",
              "    <tr>\n",
              "      <th>2</th>\n",
              "      <td>Large</td>\n",
              "      <td>SQLLite</td>\n",
              "      <td>30.0</td>\n",
              "      <td>11.515000</td>\n",
              "      <td>0.559142</td>\n",
              "      <td>10.58</td>\n",
              "      <td>11.1175</td>\n",
              "      <td>11.425</td>\n",
              "      <td>11.7800</td>\n",
              "      <td>12.96</td>\n",
              "    </tr>\n",
              "    <tr>\n",
              "      <th>3</th>\n",
              "      <td>Medium</td>\n",
              "      <td>GreenDAO</td>\n",
              "      <td>30.0</td>\n",
              "      <td>7.454000</td>\n",
              "      <td>2.007358</td>\n",
              "      <td>4.18</td>\n",
              "      <td>6.0700</td>\n",
              "      <td>7.425</td>\n",
              "      <td>8.7150</td>\n",
              "      <td>11.94</td>\n",
              "    </tr>\n",
              "    <tr>\n",
              "      <th>4</th>\n",
              "      <td>Medium</td>\n",
              "      <td>Realm</td>\n",
              "      <td>30.0</td>\n",
              "      <td>5.818000</td>\n",
              "      <td>1.330951</td>\n",
              "      <td>3.79</td>\n",
              "      <td>4.8925</td>\n",
              "      <td>5.690</td>\n",
              "      <td>6.4125</td>\n",
              "      <td>10.34</td>\n",
              "    </tr>\n",
              "    <tr>\n",
              "      <th>5</th>\n",
              "      <td>Medium</td>\n",
              "      <td>SQLLite</td>\n",
              "      <td>30.0</td>\n",
              "      <td>7.794000</td>\n",
              "      <td>1.599007</td>\n",
              "      <td>4.04</td>\n",
              "      <td>6.9075</td>\n",
              "      <td>7.875</td>\n",
              "      <td>8.9275</td>\n",
              "      <td>11.26</td>\n",
              "    </tr>\n",
              "    <tr>\n",
              "      <th>6</th>\n",
              "      <td>Small</td>\n",
              "      <td>GreenDAO</td>\n",
              "      <td>30.0</td>\n",
              "      <td>1.893667</td>\n",
              "      <td>0.347905</td>\n",
              "      <td>1.31</td>\n",
              "      <td>1.6450</td>\n",
              "      <td>1.815</td>\n",
              "      <td>2.0600</td>\n",
              "      <td>2.67</td>\n",
              "    </tr>\n",
              "    <tr>\n",
              "      <th>7</th>\n",
              "      <td>Small</td>\n",
              "      <td>Realm</td>\n",
              "      <td>30.0</td>\n",
              "      <td>1.599000</td>\n",
              "      <td>0.314986</td>\n",
              "      <td>1.12</td>\n",
              "      <td>1.3425</td>\n",
              "      <td>1.580</td>\n",
              "      <td>1.7775</td>\n",
              "      <td>2.27</td>\n",
              "    </tr>\n",
              "    <tr>\n",
              "      <th>8</th>\n",
              "      <td>Small</td>\n",
              "      <td>SQLLite</td>\n",
              "      <td>30.0</td>\n",
              "      <td>1.799000</td>\n",
              "      <td>0.415960</td>\n",
              "      <td>1.10</td>\n",
              "      <td>1.5625</td>\n",
              "      <td>1.775</td>\n",
              "      <td>2.0550</td>\n",
              "      <td>2.68</td>\n",
              "    </tr>\n",
              "    <tr>\n",
              "      <th>9</th>\n",
              "      <td>Small</td>\n",
              "      <td>Sharedpreferences</td>\n",
              "      <td>30.0</td>\n",
              "      <td>1.673667</td>\n",
              "      <td>0.285192</td>\n",
              "      <td>1.09</td>\n",
              "      <td>1.5450</td>\n",
              "      <td>1.770</td>\n",
              "      <td>1.8100</td>\n",
              "      <td>2.23</td>\n",
              "    </tr>\n",
              "  </tbody>\n",
              "</table>\n",
              "</div>"
            ],
            "text/plain": [
              "  DataSize    PersistenceType  count       mean       std    min      25%  \\\n",
              "0    Large           GreenDAO   30.0  12.110333  0.868461  10.38  11.4775   \n",
              "1    Large              Realm   30.0  10.651667  1.405990   7.68   9.6700   \n",
              "2    Large            SQLLite   30.0  11.515000  0.559142  10.58  11.1175   \n",
              "3   Medium           GreenDAO   30.0   7.454000  2.007358   4.18   6.0700   \n",
              "4   Medium              Realm   30.0   5.818000  1.330951   3.79   4.8925   \n",
              "5   Medium            SQLLite   30.0   7.794000  1.599007   4.04   6.9075   \n",
              "6    Small           GreenDAO   30.0   1.893667  0.347905   1.31   1.6450   \n",
              "7    Small              Realm   30.0   1.599000  0.314986   1.12   1.3425   \n",
              "8    Small            SQLLite   30.0   1.799000  0.415960   1.10   1.5625   \n",
              "9    Small  Sharedpreferences   30.0   1.673667  0.285192   1.09   1.5450   \n",
              "\n",
              "      50%      75%    max  \n",
              "0  12.045  12.7000  13.56  \n",
              "1  10.660  11.8275  13.36  \n",
              "2  11.425  11.7800  12.96  \n",
              "3   7.425   8.7150  11.94  \n",
              "4   5.690   6.4125  10.34  \n",
              "5   7.875   8.9275  11.26  \n",
              "6   1.815   2.0600   2.67  \n",
              "7   1.580   1.7775   2.27  \n",
              "8   1.775   2.0550   2.68  \n",
              "9   1.770   1.8100   2.23  "
            ]
          },
          "execution_count": 25,
          "metadata": {},
          "output_type": "execute_result"
        }
      ],
      "source": [
        "help = android.groupby(['DataSize', 'PersistenceType'])['Time'].describe().reset_index()\n",
        "help"
      ]
    },
    {
      "cell_type": "code",
      "execution_count": 24,
      "metadata": {},
      "outputs": [
        {
          "data": {
            "text/plain": [
              "TtestResult(statistic=np.float64(-0.9624716662718156), pvalue=np.float64(0.16992370571901444), df=np.float64(57.43660193307136))"
            ]
          },
          "execution_count": 24,
          "metadata": {},
          "output_type": "execute_result"
        }
      ],
      "source": [
        "stats.ttest_ind(a=android[(android.DataSize =='Small') & (android.PersistenceType =='Realm' )][ 'Time'], b=android[ (android.DataSize == 'Small') & (android.PersistenceType == 'Sharedpreferences' )]['Time'], alternative='less', equal_var=False)"
      ]
    },
    {
      "cell_type": "code",
      "execution_count": 26,
      "metadata": {},
      "outputs": [
        {
          "data": {
            "text/plain": [
              "TtestResult(statistic=np.float64(-3.720451024030081), pvalue=np.float64(0.0002506300568234833), df=np.float64(50.368112409979226))"
            ]
          },
          "execution_count": 26,
          "metadata": {},
          "output_type": "execute_result"
        }
      ],
      "source": [
        "stats.ttest_ind(a=android[(android.DataSize =='Medium') & (android.PersistenceType =='Realm' )][ 'Time'], b=android[ (android.DataSize == 'Medium') & (android.PersistenceType == 'GreenDAO' )]['Time'], alternative='less', equal_var=False)"
      ]
    },
    {
      "cell_type": "code",
      "execution_count": 27,
      "metadata": {},
      "outputs": [
        {
          "data": {
            "text/plain": [
              "TtestResult(statistic=np.float64(-3.1251713022860717), pvalue=np.float64(0.0016999220614984435), df=np.float64(37.949081548450195))"
            ]
          },
          "execution_count": 27,
          "metadata": {},
          "output_type": "execute_result"
        }
      ],
      "source": [
        "stats.ttest_ind(a=android[(android.DataSize =='Large') & (android.PersistenceType =='Realm' )][ 'Time'], b=android[ (android.DataSize == 'Large') & (android.PersistenceType == 'SQLLite' )]['Time'], alternative='less', equal_var=False)"
      ]
    },
    {
      "cell_type": "markdown",
      "metadata": {},
      "source": [
        "### Answers\n",
        "\n",
        "The table below provides an overview of the best and second best persistence type for each data size (based on the sample mean).\n",
        "\n",
        "| Data Size | Best  | 2nd Best          | p-value   |\n",
        "| :-------- | :---- | :---------------- | :-------- |\n",
        "| Small     | Realm | SharedPreferences | 0.1699    |\n",
        "| Medium    | Realm | GreenDAO          | 0.0002506 |\n",
        "| Large     | Realm | SQLite            | 0.0017    |\n",
        "\n",
        "The conclusion of Akin (2016), which states that Realm is the most efficient persistence type, still holds, but for the small data sets the difference is not significant.\n",
        "\n",
        "Note that we have not explicitly selected a specific significance level in advance. However, for $\\alpha$ = 0.1, 0.05 or even 0.01, the same conclusion can be drawn."
      ]
    }
  ],
  "metadata": {
    "colab": {
      "provenance": []
    },
    "kernelspec": {
      "display_name": "Python 3",
      "name": "python3"
    },
    "language_info": {
      "codemirror_mode": {
        "name": "ipython",
        "version": 3
      },
      "file_extension": ".py",
      "mimetype": "text/x-python",
      "name": "python",
      "nbconvert_exporter": "python",
      "pygments_lexer": "ipython3",
      "version": "3.13.1"
    }
  },
  "nbformat": 4,
  "nbformat_minor": 0
}
