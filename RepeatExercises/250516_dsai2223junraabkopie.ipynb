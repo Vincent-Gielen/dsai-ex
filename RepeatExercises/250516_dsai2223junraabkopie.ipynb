{
  "cells": [
    {
      "cell_type": "markdown",
      "metadata": {
        "id": "NBHcx9lO5QLw"
      },
      "source": [
        "<H1>Data Science & AI Voorbeeldoverzicht</H1>"
      ]
    },
    {
      "cell_type": "code",
      "execution_count": 1,
      "metadata": {
        "id": "47S88fI_5QL1"
      },
      "outputs": [],
      "source": [
        "# Importeren van de nodige packages\n",
        "# Vul zelf aan met extra packages als dit nodig is voor de oefeningen!\n",
        "import numpy as np\n",
        "import pandas as pd\n",
        "import scipy.stats as stats\n",
        "import matplotlib.pyplot as plt\n",
        "import seaborn as sns"
      ]
    },
    {
      "cell_type": "markdown",
      "metadata": {
        "id": "TGIwed5cUGQv"
      },
      "source": [
        "## Vraag 1 [2 pt]\n",
        "\n",
        "Wat is het meetniveau van elk van deze variabelen:\n",
        "\n",
        "1. de functie van een werknemer (uitvoerend, leidinggevend, ...)\n",
        "2. het salaris van de werknemer\n",
        "3. de naam van het departement van de werknemer\n",
        "4. de anciënniteit (= het aantal jaren in dienst) van de werknemer\n",
        "\n",
        "\n"
      ]
    },
    {
      "cell_type": "markdown",
      "metadata": {
        "id": "QK_k0oiwiZO9"
      },
      "source": [
        "(1) ord / (2) ratio / (3) nom / (4) ratio"
      ]
    },
    {
      "cell_type": "markdown",
      "metadata": {
        "id": "mRtic0Lhmw8b"
      },
      "source": [
        "## Vraag 2 [3 pt]\n",
        "\n",
        "De Vlaamse overheid wil het sociaal welbevinden van haar inwoners onderzoeken. Daarom laat ze een computer willekeurig gsm-nummers kiezen uit een databank met daarin alle bekende gsm-nummers van Vlamingen. Wanneer iemand niet reageert, wordt herhaaldelijk teruggebeld tot er een antwoord komt of tot een maximum aantal pogingen wordt bereikt.\n",
        "\n",
        "1. Is dit een random sample? Leg uit.\n",
        "2. Welk type fout(en) wordt hier gemaakt?\n",
        "3. Is dit een goede sample? Leg uit."
      ]
    },
    {
      "cell_type": "code",
      "execution_count": 25,
      "metadata": {
        "id": "KtWHoDmu-UKo"
      },
      "outputs": [],
      "source": [
        "# 1. nee, niet elk element heeft evenveel kans om gekozen worden\n",
        "# 2. systematic sampling error\n",
        "# 3. Neen (niet representatief voor de populatie, bvb senioren zonder gsm komen niet aan bod)"
      ]
    },
    {
      "cell_type": "markdown",
      "metadata": {
        "id": "PkTqzeAGGE0e"
      },
      "source": [
        "## Vraag 3 [6 pt]\n",
        "\n",
        "Er zijn twee verkeerslichten op de route die een bepaald individu volgt om van zijn huis naar het werk te gaan.\n",
        "E = de gebeurtenis dat het individu moet stoppen bij het eerste licht\n",
        "F = de gebeurtenis dat het individu moet stoppen bij het tweede licht\n",
        "\n",
        "$P(E)$ = 0.4\n",
        "$P(F)$ = 0.3\n",
        "$P(E \\cap F)$ = 0.15\n",
        "\n",
        "1. Zijn E en F onafhankelijke events? Leg kort uit waarom wel of waarom niet? wel AFHANKELIJK wnt n gelyk\n",
        "2. Wat is de kans dat het individu ten minste aan één van de lichten moet stoppen? 0.55\n",
        "3. Wat is de kans dat het individu aan geen van beide lichten moet stoppen?0.45\n",
        "4. Wat is de kans dat het individu ten minste aan het eerste licht moet stoppen? 0.40\n",
        "5. Wat is de kans dat het individu aan exact één van de lichten moet stoppen? 0.40\n",
        "6. Wat is de kans dat het individu enkel aan het eerste licht moet stoppen? 0.25\n"
      ]
    },
    {
      "cell_type": "code",
      "execution_count": 26,
      "metadata": {
        "colab": {
          "base_uri": "https://localhost:8080/"
        },
        "id": "ieWTJ-9lGEPN",
        "outputId": "b816cc14-cc62-4d24-ad37-8fee1ef82ca5"
      },
      "outputs": [
        {
          "data": {
            "text/plain": [
              "0.25"
            ]
          },
          "execution_count": 26,
          "metadata": {},
          "output_type": "execute_result"
        }
      ],
      "source": [
        "\n",
        "# 1 niet onafhankelijk (afhankelijk dus) want\n",
        "# P(E).P(F) <> P(E ∩ F)\n",
        "# 0.4 * 0.3 <> 0.15\n",
        "\n",
        "# 2. kans dat hij aan ten minste 1 van de beide lichten moet stoppen\n",
        "# 𝑃(E ∪ F) = 𝑃(E) + 𝑃(F) − 𝑃(E ∩ F) = 0.4 + 0.3 - 0.15 = 0.55\n",
        "\n",
        "# 3. Wat is de kans dat het individu aan geen van beide lichten moet stoppen?\n",
        "# 1 - 𝑃(E ∪ F)= 0.45\n",
        "\n",
        "# 4. Wat is de kans dat het individu ten minste aan het eerste licht moet stoppen?\n",
        "# 𝑃(E) + 𝑃(E ∩ F) = 0.4                                   + 0.15 = 0.55\n",
        "\n",
        "# 5. Wat is de kans dat het individu aan exact één van de lichten moet stoppen?\n",
        "# 𝑃(𝐴 ∪ 𝐵) - P(A ∩ B) = 0.55 - 0.15\n",
        "\n",
        "# 6. Wat is de kans dat het individu enkel aan het eerste licht moet stoppen?\n",
        "0.25"
      ]
    },
    {
      "cell_type": "markdown",
      "metadata": {
        "id": "VOQIyTiFFUkh"
      },
      "source": [
        "![image.png](data:image/png;base64,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)"
      ]
    },
    {
      "cell_type": "markdown",
      "metadata": {
        "id": "wIbN6gpBDuuG"
      },
      "source": [
        "### Gegeven:\n",
        "1. $ P(E) = 0.4 $  (moet stoppen bij eerste licht)\n",
        "1. $ P(F) = 0.3 $  (moet stoppen bij tweede licht)\n",
        "1. $ P(E \\cap F) = 0.15 $  (moet bij beide stoppen)\n",
        "\n",
        "---\n",
        "\n",
        "## 1. Kans op exact één van de lichten moeten stoppen\n",
        "\n",
        "Dit betekent: **wel bij het eerste of wel bij het tweede, maar niet bij beide**.\n",
        "\n",
        "Formule:\n",
        "$$\n",
        "P(\\text{exact één}) = P(E \\setminus F) + P(F \\setminus E)\n",
        "$$\n",
        "$$\n",
        "= P(E) - P(E \\cap F) + P(F) - P(E \\cap F)\n",
        "$$\n",
        "$$\n",
        "= [0.4 - 0.15] + [0.3 - 0.15] = 0.25 + 0.15 = 0.40\n",
        "$$\n",
        "\n",
        "**Antwoord:**  \n",
        "De kans dat het individu bij exact één van de lichten moet stoppen is **0,40**.\n",
        "\n",
        "---\n",
        "\n",
        "## 2. Kans op enkel aan het eerste licht moeten stoppen\n",
        "\n",
        "Dit betekent: **wel bij het eerste, niet bij het tweede**.\n",
        "\n",
        "Formule:\n",
        "$$\n",
        "P(E \\setminus F) = P(E) - P(E \\cap F) = 0.4 - 0.15 = 0.25\n",
        "$$\n",
        "\n",
        "**Antwoord:**  \n",
        "De kans dat het individu enkel aan het eerste licht moet stoppen is **0,25**.\n",
        "\n",
        "---\n",
        "\n",
        "#### Samenvatting in tabel\n",
        "\n",
        "| Gebeurtenis                           | Kans  |\n",
        "|----------------------------------------|-------|\n",
        "| Exact één van beide lichten            | 0,40  |\n",
        "| Enkel aan het eerste licht             | 0,25  |\n",
        "\n",
        "**Gebruikte formules:**  \n",
        "1. $$ P(A \\setminus B) = P(A) - P(A \\cap B) $$\n",
        "1. $$ P(\\text{exact één}) = P(E \\setminus F) + P(F \\setminus E) $$"
      ]
    },
    {
      "cell_type": "markdown",
      "metadata": {
        "id": "Tt1NcFuptleb"
      },
      "source": [
        "## Vraag 4 [4 pt]\n",
        "\n",
        "Stel dat de verdeling van de netto-typsnelheid in\n",
        "woorden per minuut (wpm) voor ervaren typisten kan worden\n",
        "benaderd kan worden door een normale curve met gemiddelde 65 wpm en\n",
        "standaardafwijking 15 wpm\n",
        "1. Wat is de kans dat de netto-snelheid van een willekeurig gekozen typist\n",
        "maximaal 60 wpm is?\n",
        "2. Wat is de kans dat de netto-snelheid van een willekeurig gekozen typist\n",
        "nettosnelheid tussen 45 en 90 wpm ligt?\n",
        "3. Zou je verbaasd zijn om een typist te vinden\n",
        "wiens netto-snelheid hoger is dan 105 wpm?\n",
        "4. Stel dat een speciale training zal worden gegeven aan de langzaamste 20% van de typisten. Welke typesnelheden zouden in aanmerking komen voor deze opleiding?"
      ]
    },
    {
      "cell_type": "code",
      "execution_count": 3,
      "metadata": {
        "colab": {
          "base_uri": "https://localhost:8080/"
        },
        "id": "kiNt78HRureh",
        "outputId": "656b401f-721e-41b7-fcad-ac214665c4a7"
      },
      "outputs": [
        {
          "name": "stdout",
          "output_type": "stream",
          "text": [
            "eers 0.3694 0.861 0.0038 52.3757\n",
            "*** zerty *** ===>>  0.6306 0.8186 0.0013 47.3757\n"
          ]
        }
      ],
      "source": [
        "mu = 65\n",
        "sigma = 15\n",
        "\n",
        "# 1. Wat is de kans dat de netto-snelheid van een willekeurig gekozen typist maximaal 60 wpm is?\n",
        "VA1= stats.norm.cdf(60, loc=mu, scale=sigma)\n",
        "# 2. Wat is de kans dat de netto-snelheid van een willekeurig gekozen typist nettosnelheid tussen 45 en 90 wpm ligt?\n",
        "VA2= stats.norm.cdf(90, loc=mu, scale=sigma) - stats.norm.cdf(45, loc=mu, scale=sigma)\n",
        "# 3. Wat is de kans om een typist te vinden wiens netto-snelheid hoger is dan 105 wpm?\n",
        "VA3= stats.norm.sf(105, loc=mu, scale=sigma)\n",
        "# 4. Stel dat een speciale training zal worden gegeven aan de langzaamste 20% van de typisten.\n",
        "# Welke typesnelheden zouden in aanmerking komen voor deze opleiding?\n",
        "VA4= stats.norm.isf(1-0.2, loc=mu, scale=sigma)\n",
        "print(\"eers\", round(VA1, 4), round(VA2, 4), round(VA3, 4), round(VA4, 4))\n",
        "\n",
        "mu = 60\n",
        "sigma = 15\n",
        "\n",
        "# 1. Wat is de kans dat de netto-snelheid van een willekeurig gekozen typist maximaal 65 wpm is?\n",
        "VB1= stats.norm.cdf(65, loc=mu, scale=sigma)\n",
        "# 2. Wat is de kans dat de netto-snelheid van een willekeurig gekozen typist nettosnelheid tussen 45 en 90 wpm ligt?\n",
        "VB2= stats.norm.cdf(90, loc=mu, scale=sigma) - stats.norm.cdf(45, loc=mu, scale=sigma)\n",
        "# 3. Wat is de kans om een typist te vinden wiens netto-snelheid hoger is dan 105 wpm?\n",
        "VB3= stats.norm.sf(105, loc=mu, scale=sigma)\n",
        "# 4. Stel dat een speciale training zal worden gegeven aan de langzaamste 20% van de typisten. Welke typesnelheden zouden in aanmerking komen voor deze opleiding?\n",
        "VB4= stats.norm.isf(1-0.2, loc=mu, scale=sigma)\n",
        "print(\"*** zerty *** ===>> \", round(VB1, 4), round(VB2, 4), round(VB3, 4), round(VB4, 4))\n",
        "\n"
      ]
    },
    {
      "cell_type": "code",
      "execution_count": 28,
      "metadata": {
        "colab": {
          "base_uri": "https://localhost:8080/"
        },
        "id": "jyXWLOg2GpGr",
        "outputId": "5e1c947f-bad2-48f4-b7e5-973116c2f09b"
      },
      "outputs": [
        {
          "name": "stdout",
          "output_type": "stream",
          "text": [
            "dred 0.5 0.8186 0.0013 47.3757\n"
          ]
        }
      ],
      "source": [
        "mu = 60\n",
        "sigma = 15\n",
        "\n",
        "# 1. Wat is de kans dat de netto-snelheid van een willekeurig gekozen typist maximaal 60 wpm is?\n",
        "VA1= stats.norm.cdf(60, loc=mu, scale=sigma)\n",
        "# 2. Wat is de kans dat de netto-snelheid van een willekeurig gekozen typist nettosnelheid tussen 45 en 90 wpm ligt?\n",
        "VA2= stats.norm.cdf(90, loc=mu, scale=sigma) - stats.norm.cdf(45, loc=mu, scale=sigma)\n",
        "# 3. Wat is de kans om een typist te vinden wiens netto-snelheid hoger is dan 105 wpm?\n",
        "VA3= stats.norm.sf(105, loc=mu, scale=sigma)\n",
        "# 4. Stel dat een speciale training zal worden gegeven aan de langzaamste 20% van de typisten. Welke typesnelheden zouden in aanmerking komen voor deze opleiding?\n",
        "VA4= stats.norm.isf(1-0.2, loc=mu, scale=sigma)\n",
        "print(\"dred\", round(VA1, 4), round(VA2, 4), round(VA3, 4), round(VA4, 4))\n"
      ]
    },
    {
      "cell_type": "markdown",
      "metadata": {
        "id": "brXaDPZyC7ic"
      },
      "source": [
        "## Vraag 5 [2 pt]\n",
        "\n",
        "We weten op basis van historische data dat de vluchttijden (in minuten) voor een specifieke vlucht normaal verdeeld zijn.\n",
        "De gemeten vluchttijden tussen 1 januari en 31 maart zijn hieronder gegeven.\n",
        "\n",
        "\n",
        "1. Bereken en geef een 90% betrouwbaarheidsinterval voor\n",
        "de gemiddelde vluchttijd voor deze vlucht.   [ 53,2815 ; 55,1185 ]\n"
      ]
    },
    {
      "cell_type": "code",
      "execution_count": 29,
      "metadata": {
        "id": "A-JvcyuUDa0S"
      },
      "outputs": [],
      "source": [
        "vluchttijden = np.array([57, 54, 55, 51, 56, 48, 52, 51, 59, 59, 57, 54, 55, 51, 56, 48, 52, 51, 59, 59, 57, 54, 55, 51, 56, 48, 52, 51, 59, 59, 57, 54, 55, 51, 56, 48, 52, 51, 59, 59])"
      ]
    },
    {
      "cell_type": "code",
      "execution_count": 30,
      "metadata": {
        "colab": {
          "base_uri": "https://localhost:8080/"
        },
        "id": "aHMwybSeOMdo",
        "outputId": "47b803f0-4203-460d-af96-a8d63e2fecdf"
      },
      "outputs": [
        {
          "name": "stdout",
          "output_type": "stream",
          "text": [
            "t-score: 1.64485\n",
            "Confidence interval: [53.2815, 55.1185]\n"
          ]
        }
      ],
      "source": [
        "# 1. Bereken en geef een 90% betrouwbaarheidsinterval voor de gemiddelde vlluchttijd voor deze vlucht.\n",
        "# Step 1.\n",
        "m = np.mean(vluchttijden)      # Sample mean\n",
        "s = np.std(vluchttijden, ddof = 1)      # Sample (!) standard deviation\n",
        "n = len(vluchttijden)       # Sample size\n",
        "alpha = .1  # 1 - alpha is the confidence level\n",
        "\n",
        "# Stap 2.\n",
        "z = stats.norm.isf(alpha/2)\n",
        "print(\"t-score: %.5f\" % z)\n",
        "\n",
        "\n",
        "# Stap 3.\n",
        "lo = m - z * s / np.sqrt(n)\n",
        "hi = m + z * s / np.sqrt(n)\n",
        "print(\"Confidence interval: [%.4f, %.4f]\" % (lo, hi))\n"
      ]
    },
    {
      "cell_type": "markdown",
      "metadata": {
        "id": "5EKR2XnmW9RK"
      },
      "source": [
        "# Vraag 6 [5 pt]\n",
        "In een studie werden patiënten met een hoge bloeddruk willekeurig toegewezen aan één van twee groepen. In de 'praatgroep' werden vragen gesteld over hun medische geschiedenis en over de strefssfactoren in hun leven in de minuten voorafgaand aan het meten van de bloeddruk. In de 'telgroep' werd gevraagd vier keer hardop te tellen van 1 tot 100 voordat de bloeddruk werd gemeten.\n",
        "Is er een verschil in bloeddruk tussen de twee groepen?\n",
        "\n",
        "\n",
        "1. Maak een plot\n",
        "2. Welke hypothesetoets ga je toepassen om deze onderzoeksvraag te beantwoorden? Wees zo specifiek mogelijk! LET T² unpaired (indpt)\n",
        "3. Formuleer de nulhypothese en de alternatieve hypothese   ***   ===>>   H1: mu1 - mu2 != 0   ***\n",
        "4. Bereken de p-waarde   ===>>   0,0227\n",
        "5. Trek een besluit op basis van de vorige stap en formuleer een antwoord op de onderzoeksvraag.   === <<   H0 verwerpen   ***   (want p < significantieniveau v/5 %)\n"
      ]
    },
    {
      "cell_type": "code",
      "execution_count": 31,
      "metadata": {
        "id": "vp7U0fdsZyW6"
      },
      "outputs": [],
      "source": [
        "praatgroep = [104, 110, 107, 112, 108, 103, 108, 118]\n",
        "telgroep = [110, 96, 103, 98, 100, 109, 97, 105]"
      ]
    },
    {
      "cell_type": "code",
      "execution_count": 32,
      "metadata": {
        "colab": {
          "base_uri": "https://localhost:8080/",
          "height": 430
        },
        "id": "Ez3Lczb-amkv",
        "outputId": "0f202bb5-3a2c-4b75-8240-d97117a8bd48"
      },
      "outputs": [
        {
          "data": {
            "image/png": "[encoded data removed]",
            "text/plain": [
              "<Figure size 640x480 with 1 Axes>"
            ]
          },
          "metadata": {},
          "output_type": "display_data"
        }
      ],
      "source": [
        "# 1. Plot van de casus\n",
        "bloeddruk = pd.DataFrame(data={\n",
        "  'praatgroep': praatgroep,\n",
        "  'telgroep': telgroep\n",
        "})\n",
        "sns.boxplot(data=bloeddruk);"
      ]
    },
    {
      "cell_type": "code",
      "execution_count": 33,
      "metadata": {
        "colab": {
          "base_uri": "https://localhost:8080/"
        },
        "id": "lM1Do6LsR73a",
        "outputId": "37022e0a-8ff9-4edf-f4e4-550d485600f6"
      },
      "outputs": [
        {
          "name": "stdout",
          "output_type": "stream",
          "text": [
            "6.5\n"
          ]
        }
      ],
      "source": [
        "print(np.mean(praatgroep) - np.mean(telgroep))"
      ]
    },
    {
      "cell_type": "code",
      "execution_count": 34,
      "metadata": {
        "colab": {
          "base_uri": "https://localhost:8080/"
        },
        "id": "3aAgTjEpaKYH",
        "outputId": "228c00b3-3034-47c6-fee9-67ec47bb1f7d"
      },
      "outputs": [
        {
          "name": "stdout",
          "output_type": "stream",
          "text": [
            "2.5601 0.0227\n"
          ]
        }
      ],
      "source": [
        "s, pvalue = stats.ttest_ind(a=praatgroep, b=telgroep,\n",
        "    alternative='two-sided', equal_var=True)\n",
        "print(round(s, 4), round(pvalue, 4))"
      ]
    },
    {
      "cell_type": "markdown",
      "metadata": {
        "id": "PSopcaNLEJVC"
      },
      "source": []
    },
    {
      "cell_type": "code",
      "execution_count": 35,
      "metadata": {
        "id": "4e4a7C79QstL"
      },
      "outputs": [],
      "source": [
        "# 2. Welke hypothesetoets ga je toepassen om deze onderzoeksvraag te beantwoorden? Wees zo specifiek mogelijk!\n",
        "# Two-sample t-test voor Independent samples\n",
        "\n",
        "# 3. Formuleer de nulhypothese en de alternatieve hypothese\n",
        "# H0 = Er is geen verschil in bloeddruk tussen de beide groepen\n",
        "# H1 = Er is een verschil in bloeddruk tussen de beide groepen\n",
        "\n",
        "# 4. Bereken de p-waarde\n",
        "# p-value = 0.0226\n",
        "\n",
        "# 5. Trek een besluit op basis van de vorige stap en formuleer een antwoord op de onderzoeksvraag.\n",
        "# Er is voldoende reden om H0 te verwerpen\n",
        "# Er is een significant verschil in bloeddruk tussen de 2 groepen."
      ]
    },
    {
      "cell_type": "markdown",
      "metadata": {
        "id": "3KIRbqKGjkIU"
      },
      "source": [
        "## Vraag 7 [8 pt]\n",
        "\n",
        "Het aantal werknemers op de loonlijst bij een voedingsverwerkend bedrijf wordt aan het begin van elke maand geregistreerd.\n",
        "Deze gegevens staan hieronder.\n",
        "\n",
        "1. Geef de datatypes van beide kolommen     ===>>   *****   int & object   *****\n",
        "2. Vorm de kolom 'datum' om naar het type datetime. Ook als dit je niet lukt kan je verder werken.\n",
        "3. Maak de volgende plot.\n",
        "\n",
        "![image.png](data:image/png;base64,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)\n",
        "\n",
        "4. Maak een voorspelling voor de eerste vier maanden van het volgende jaar met behulp van de meest geschikte methode. Leg uit waarom je voor deze methode kiest.\n",
        "5. Maak een plot inclusief de prognose.\n",
        "6. Maak de volgende berekeningen\n",
        "- 6.1 Bereken het gemiddeld aantal werknemers in 2020   ===>>>>>>>   373,5\n",
        "- 6.2 Hoeveel maanden telde het bedrijf meer dan 400 werknemers?   ===>>>>>>>   9\n",
        "\n",
        "\n"
      ]
    },
    {
      "cell_type": "code",
      "execution_count": 36,
      "metadata": {
        "colab": {
          "base_uri": "https://localhost:8080/"
        },
        "id": "nhHDzBJi9CCN",
        "outputId": "01c5e70d-dca3-4e8e-ac18-6149a57624c5"
      },
      "outputs": [
        {
          "name": "stdout",
          "output_type": "stream",
          "text": [
            "Zie verder!\n"
          ]
        }
      ],
      "source": [
        "# 1. Geef de datatypes van beide kolommen\n",
        "# # # dfwerknemers.dtypes\n",
        "print(\"Zie verder!\")"
      ]
    },
    {
      "cell_type": "code",
      "execution_count": 37,
      "metadata": {
        "id": "rcZgfidNUgIb"
      },
      "outputs": [],
      "source": [
        "dfwerknemers = pd.DataFrame(data={\n",
        "    'datum': ['2019/01/01', '2019/02/01', '2019/03/01', '2019/04/01', '2019/05/01', '2019/06/01', '2019/07/01', '2019/08/01', '2019/09/01', '2019/10/01', '2019/11/01', '2019/12/01', '2020/01/01', '2020/02/01', '2020/03/01', '2020/04/01', '2020/05/01', '2020/06/01', '2020/07/01', '2020/08/01', '2020/09/01', '2020/10/01', '2020/11/01', '2020/12/01', '2021/01/01', '2021/02/01', '2021/03/01', '2021/04/01', '2021/05/01', '2021/06/01', '2021/07/01', '2021/08/01', '2021/09/01', '2021/10/01', '2021/11/01', '2021/12/01'],\n",
        "    'aantal': [350,348,353,353,349,377,375,403,412,409,398,357,349,351,350,355,346,377,372,405,416,407,399,355,347,351,350,352,343,374,375,408,412,410,400,357]\n",
        "})\n"
      ]
    },
    {
      "cell_type": "code",
      "execution_count": 38,
      "metadata": {
        "colab": {
          "base_uri": "https://localhost:8080/",
          "height": 147
        },
        "id": "zemweT2ciZJC",
        "outputId": "8b77b9ab-2eb0-4c51-d532-097458d0a782"
      },
      "outputs": [
        {
          "data": {
            "text/html": [
              "<div>\n",
              "<style scoped>\n",
              "    .dataframe tbody tr th:only-of-type {\n",
              "        vertical-align: middle;\n",
              "    }\n",
              "\n",
              "    .dataframe tbody tr th {\n",
              "        vertical-align: top;\n",
              "    }\n",
              "\n",
              "    .dataframe thead th {\n",
              "        text-align: right;\n",
              "    }\n",
              "</style>\n",
              "<table border=\"1\" class=\"dataframe\">\n",
              "  <thead>\n",
              "    <tr style=\"text-align: right;\">\n",
              "      <th></th>\n",
              "      <th>0</th>\n",
              "    </tr>\n",
              "  </thead>\n",
              "  <tbody>\n",
              "    <tr>\n",
              "      <th>datum</th>\n",
              "      <td>object</td>\n",
              "    </tr>\n",
              "    <tr>\n",
              "      <th>aantal</th>\n",
              "      <td>int64</td>\n",
              "    </tr>\n",
              "  </tbody>\n",
              "</table>\n",
              "</div><br><label><b>dtype:</b> object</label>"
            ],
            "text/plain": [
              "datum     object\n",
              "aantal     int64\n",
              "dtype: object"
            ]
          },
          "execution_count": 38,
          "metadata": {},
          "output_type": "execute_result"
        }
      ],
      "source": [
        "# 1. Geef de datatypes van beide kolommen\n",
        "dfwerknemers.dtypes"
      ]
    },
    {
      "cell_type": "code",
      "execution_count": 39,
      "metadata": {
        "id": "-Vg5KIwjigUQ"
      },
      "outputs": [],
      "source": [
        "# 2. Vorm de kolom 'datum' om naar het type datetime. Ook als dit je niet lukt kan je verder werken.\n",
        "dfwerknemers['datum'] = pd.to_datetime(dfwerknemers['datum'], format = '%Y/%m/%d')"
      ]
    },
    {
      "cell_type": "code",
      "execution_count": 40,
      "metadata": {
        "colab": {
          "base_uri": "https://localhost:8080/",
          "height": 238
        },
        "id": "HSeSbxYLgad0",
        "outputId": "075426b7-3bbc-4a3e-828a-d37a8b213ec1"
      },
      "outputs": [
        {
          "data": {
            "application/vnd.google.colaboratory.intrinsic+json": {
              "summary": "{\n  \"name\": \"dfwerknemers\",\n  \"rows\": 36,\n  \"fields\": [\n    {\n      \"column\": \"datum\",\n      \"properties\": {\n        \"dtype\": \"date\",\n        \"min\": \"2019-01-01 00:00:00\",\n        \"max\": \"2021-12-01 00:00:00\",\n        \"num_unique_values\": 36,\n        \"samples\": [\n          \"2021-12-01 00:00:00\",\n          \"2020-02-01 00:00:00\",\n          \"2021-03-01 00:00:00\"\n        ],\n        \"semantic_type\": \"\",\n        \"description\": \"\"\n      }\n    },\n    {\n      \"column\": \"aantal\",\n      \"properties\": {\n        \"dtype\": \"number\",\n        \"std\": 25,\n        \"min\": 343,\n        \"max\": 416,\n        \"num_unique_values\": 26,\n        \"samples\": [\n          409,\n          416,\n          350\n        ],\n        \"semantic_type\": \"\",\n        \"description\": \"\"\n      }\n    }\n  ]\n}",
              "type": "dataframe",
              "variable_name": "dfwerknemers"
            },
            "text/html": [
              "\n",
              "  <div id=\"df-449ca731-bc51-45cc-8e0f-d710b6a01df7\" class=\"colab-df-container\">\n",
              "    <div>\n",
              "<style scoped>\n",
              "    .dataframe tbody tr th:only-of-type {\n",
              "        vertical-align: middle;\n",
              "    }\n",
              "\n",
              "    .dataframe tbody tr th {\n",
              "        vertical-align: top;\n",
              "    }\n",
              "\n",
              "    .dataframe thead th {\n",
              "        text-align: right;\n",
              "    }\n",
              "</style>\n",
              "<table border=\"1\" class=\"dataframe\">\n",
              "  <thead>\n",
              "    <tr style=\"text-align: right;\">\n",
              "      <th></th>\n",
              "      <th>aantal</th>\n",
              "    </tr>\n",
              "    <tr>\n",
              "      <th>datum</th>\n",
              "      <th></th>\n",
              "    </tr>\n",
              "  </thead>\n",
              "  <tbody>\n",
              "    <tr>\n",
              "      <th>2019-01-01</th>\n",
              "      <td>350</td>\n",
              "    </tr>\n",
              "    <tr>\n",
              "      <th>2019-02-01</th>\n",
              "      <td>348</td>\n",
              "    </tr>\n",
              "    <tr>\n",
              "      <th>2019-03-01</th>\n",
              "      <td>353</td>\n",
              "    </tr>\n",
              "    <tr>\n",
              "      <th>2019-04-01</th>\n",
              "      <td>353</td>\n",
              "    </tr>\n",
              "    <tr>\n",
              "      <th>2019-05-01</th>\n",
              "      <td>349</td>\n",
              "    </tr>\n",
              "  </tbody>\n",
              "</table>\n",
              "</div>\n",
              "    <div class=\"colab-df-buttons\">\n",
              "\n",
              "  <div class=\"colab-df-container\">\n",
              "    <button class=\"colab-df-convert\" onclick=\"convertToInteractive('df-449ca731-bc51-45cc-8e0f-d710b6a01df7')\"\n",
              "            title=\"Convert this dataframe to an interactive table.\"\n",
              "            style=\"display:none;\">\n",
              "\n",
              "  <svg xmlns=\"http://www.w3.org/2000/svg\" height=\"24px\" viewBox=\"0 -960 960 960\">\n",
              "    <path d=\"M120-120v-720h720v720H120Zm60-500h600v-160H180v160Zm220 220h160v-160H400v160Zm0 220h160v-160H400v160ZM180-400h160v-160H180v160Zm440 0h160v-160H620v160ZM180-180h160v-160H180v160Zm440 0h160v-160H620v160Z\"/>\n",
              "  </svg>\n",
              "    </button>\n",
              "\n",
              "  <style>\n",
              "    .colab-df-container {\n",
              "      display:flex;\n",
              "      gap: 12px;\n",
              "    }\n",
              "\n",
              "    .colab-df-convert {\n",
              "      background-color: #E8F0FE;\n",
              "      border: none;\n",
              "      border-radius: 50%;\n",
              "      cursor: pointer;\n",
              "      display: none;\n",
              "      fill: #1967D2;\n",
              "      height: 32px;\n",
              "      padding: 0 0 0 0;\n",
              "      width: 32px;\n",
              "    }\n",
              "\n",
              "    .colab-df-convert:hover {\n",
              "      background-color: #E2EBFA;\n",
              "      box-shadow: 0px 1px 2px rgba(60, 64, 67, 0.3), 0px 1px 3px 1px rgba(60, 64, 67, 0.15);\n",
              "      fill: #174EA6;\n",
              "    }\n",
              "\n",
              "    .colab-df-buttons div {\n",
              "      margin-bottom: 4px;\n",
              "    }\n",
              "\n",
              "    [theme=dark] .colab-df-convert {\n",
              "      background-color: #3B4455;\n",
              "      fill: #D2E3FC;\n",
              "    }\n",
              "\n",
              "    [theme=dark] .colab-df-convert:hover {\n",
              "      background-color: #434B5C;\n",
              "      box-shadow: 0px 1px 3px 1px rgba(0, 0, 0, 0.15);\n",
              "      filter: drop-shadow(0px 1px 2px rgba(0, 0, 0, 0.3));\n",
              "      fill: #FFFFFF;\n",
              "    }\n",
              "  </style>\n",
              "\n",
              "    <script>\n",
              "      const buttonEl =\n",
              "        document.querySelector('#df-449ca731-bc51-45cc-8e0f-d710b6a01df7 button.colab-df-convert');\n",
              "      buttonEl.style.display =\n",
              "        google.colab.kernel.accessAllowed ? 'block' : 'none';\n",
              "\n",
              "      async function convertToInteractive(key) {\n",
              "        const element = document.querySelector('#df-449ca731-bc51-45cc-8e0f-d710b6a01df7');\n",
              "        const dataTable =\n",
              "          await google.colab.kernel.invokeFunction('convertToInteractive',\n",
              "                                                    [key], {});\n",
              "        if (!dataTable) return;\n",
              "\n",
              "        const docLinkHtml = 'Like what you see? Visit the ' +\n",
              "          '<a target=\"_blank\" href=https://colab.research.google.com/notebooks/data_table.ipynb>data table notebook</a>'\n",
              "          + ' to learn more about interactive tables.';\n",
              "        element.innerHTML = '';\n",
              "        dataTable['output_type'] = 'display_data';\n",
              "        await google.colab.output.renderOutput(dataTable, element);\n",
              "        const docLink = document.createElement('div');\n",
              "        docLink.innerHTML = docLinkHtml;\n",
              "        element.appendChild(docLink);\n",
              "      }\n",
              "    </script>\n",
              "  </div>\n",
              "\n",
              "\n",
              "    <div id=\"df-7926aeec-6de5-43e5-babb-30b67dae08bf\">\n",
              "      <button class=\"colab-df-quickchart\" onclick=\"quickchart('df-7926aeec-6de5-43e5-babb-30b67dae08bf')\"\n",
              "                title=\"Suggest charts\"\n",
              "                style=\"display:none;\">\n",
              "\n",
              "<svg xmlns=\"http://www.w3.org/2000/svg\" height=\"24px\"viewBox=\"0 0 24 24\"\n",
              "     width=\"24px\">\n",
              "    <g>\n",
              "        <path d=\"M19 3H5c-1.1 0-2 .9-2 2v14c0 1.1.9 2 2 2h14c1.1 0 2-.9 2-2V5c0-1.1-.9-2-2-2zM9 17H7v-7h2v7zm4 0h-2V7h2v10zm4 0h-2v-4h2v4z\"/>\n",
              "    </g>\n",
              "</svg>\n",
              "      </button>\n",
              "\n",
              "<style>\n",
              "  .colab-df-quickchart {\n",
              "      --bg-color: #E8F0FE;\n",
              "      --fill-color: #1967D2;\n",
              "      --hover-bg-color: #E2EBFA;\n",
              "      --hover-fill-color: #174EA6;\n",
              "      --disabled-fill-color: #AAA;\n",
              "      --disabled-bg-color: #DDD;\n",
              "  }\n",
              "\n",
              "  [theme=dark] .colab-df-quickchart {\n",
              "      --bg-color: #3B4455;\n",
              "      --fill-color: #D2E3FC;\n",
              "      --hover-bg-color: #434B5C;\n",
              "      --hover-fill-color: #FFFFFF;\n",
              "      --disabled-bg-color: #3B4455;\n",
              "      --disabled-fill-color: #666;\n",
              "  }\n",
              "\n",
              "  .colab-df-quickchart {\n",
              "    background-color: var(--bg-color);\n",
              "    border: none;\n",
              "    border-radius: 50%;\n",
              "    cursor: pointer;\n",
              "    display: none;\n",
              "    fill: var(--fill-color);\n",
              "    height: 32px;\n",
              "    padding: 0;\n",
              "    width: 32px;\n",
              "  }\n",
              "\n",
              "  .colab-df-quickchart:hover {\n",
              "    background-color: var(--hover-bg-color);\n",
              "    box-shadow: 0 1px 2px rgba(60, 64, 67, 0.3), 0 1px 3px 1px rgba(60, 64, 67, 0.15);\n",
              "    fill: var(--button-hover-fill-color);\n",
              "  }\n",
              "\n",
              "  .colab-df-quickchart-complete:disabled,\n",
              "  .colab-df-quickchart-complete:disabled:hover {\n",
              "    background-color: var(--disabled-bg-color);\n",
              "    fill: var(--disabled-fill-color);\n",
              "    box-shadow: none;\n",
              "  }\n",
              "\n",
              "  .colab-df-spinner {\n",
              "    border: 2px solid var(--fill-color);\n",
              "    border-color: transparent;\n",
              "    border-bottom-color: var(--fill-color);\n",
              "    animation:\n",
              "      spin 1s steps(1) infinite;\n",
              "  }\n",
              "\n",
              "  @keyframes spin {\n",
              "    0% {\n",
              "      border-color: transparent;\n",
              "      border-bottom-color: var(--fill-color);\n",
              "      border-left-color: var(--fill-color);\n",
              "    }\n",
              "    20% {\n",
              "      border-color: transparent;\n",
              "      border-left-color: var(--fill-color);\n",
              "      border-top-color: var(--fill-color);\n",
              "    }\n",
              "    30% {\n",
              "      border-color: transparent;\n",
              "      border-left-color: var(--fill-color);\n",
              "      border-top-color: var(--fill-color);\n",
              "      border-right-color: var(--fill-color);\n",
              "    }\n",
              "    40% {\n",
              "      border-color: transparent;\n",
              "      border-right-color: var(--fill-color);\n",
              "      border-top-color: var(--fill-color);\n",
              "    }\n",
              "    60% {\n",
              "      border-color: transparent;\n",
              "      border-right-color: var(--fill-color);\n",
              "    }\n",
              "    80% {\n",
              "      border-color: transparent;\n",
              "      border-right-color: var(--fill-color);\n",
              "      border-bottom-color: var(--fill-color);\n",
              "    }\n",
              "    90% {\n",
              "      border-color: transparent;\n",
              "      border-bottom-color: var(--fill-color);\n",
              "    }\n",
              "  }\n",
              "</style>\n",
              "\n",
              "      <script>\n",
              "        async function quickchart(key) {\n",
              "          const quickchartButtonEl =\n",
              "            document.querySelector('#' + key + ' button');\n",
              "          quickchartButtonEl.disabled = true;  // To prevent multiple clicks.\n",
              "          quickchartButtonEl.classList.add('colab-df-spinner');\n",
              "          try {\n",
              "            const charts = await google.colab.kernel.invokeFunction(\n",
              "                'suggestCharts', [key], {});\n",
              "          } catch (error) {\n",
              "            console.error('Error during call to suggestCharts:', error);\n",
              "          }\n",
              "          quickchartButtonEl.classList.remove('colab-df-spinner');\n",
              "          quickchartButtonEl.classList.add('colab-df-quickchart-complete');\n",
              "        }\n",
              "        (() => {\n",
              "          let quickchartButtonEl =\n",
              "            document.querySelector('#df-7926aeec-6de5-43e5-babb-30b67dae08bf button');\n",
              "          quickchartButtonEl.style.display =\n",
              "            google.colab.kernel.accessAllowed ? 'block' : 'none';\n",
              "        })();\n",
              "      </script>\n",
              "    </div>\n",
              "\n",
              "    </div>\n",
              "  </div>\n"
            ],
            "text/plain": [
              "            aantal\n",
              "datum             \n",
              "2019-01-01     350\n",
              "2019-02-01     348\n",
              "2019-03-01     353\n",
              "2019-04-01     353\n",
              "2019-05-01     349"
            ]
          },
          "execution_count": 40,
          "metadata": {},
          "output_type": "execute_result"
        }
      ],
      "source": [
        "dfwerknemers = dfwerknemers.set_index(['datum'])\n",
        "dfwerknemers.head()"
      ]
    },
    {
      "cell_type": "code",
      "execution_count": 41,
      "metadata": {
        "colab": {
          "base_uri": "https://localhost:8080/",
          "height": 498
        },
        "id": "ejoxmZuXgo9I",
        "outputId": "782d5a37-93aa-4bd9-a355-8f381e926f0b"
      },
      "outputs": [
        {
          "data": {
            "text/plain": [
              "<Axes: xlabel='datum'>"
            ]
          },
          "execution_count": 41,
          "metadata": {},
          "output_type": "execute_result"
        },
        {
          "data": {
            "image/png": "[encoded data removed]",
            "text/plain": [
              "<Figure size 1000x500 with 1 Axes>"
            ]
          },
          "metadata": {},
          "output_type": "display_data"
        }
      ],
      "source": [
        "# 3. Maak de volgende plot.\n",
        "dfwerknemers.plot( y='aantal', figsize= [10, 5])"
      ]
    },
    {
      "cell_type": "code",
      "execution_count": 42,
      "metadata": {
        "colab": {
          "base_uri": "https://localhost:8080/",
          "height": 238
        },
        "id": "Z2jw6RrQg66b",
        "outputId": "6a55b0df-269c-4ee9-8053-fd77b4356edc"
      },
      "outputs": [
        {
          "data": {
            "application/vnd.google.colaboratory.intrinsic+json": {
              "summary": "{\n  \"name\": \"dfwerknemers\",\n  \"rows\": 36,\n  \"fields\": [\n    {\n      \"column\": \"datum\",\n      \"properties\": {\n        \"dtype\": \"date\",\n        \"min\": \"2019-01-01 00:00:00\",\n        \"max\": \"2021-12-01 00:00:00\",\n        \"num_unique_values\": 36,\n        \"samples\": [\n          \"2021-12-01 00:00:00\",\n          \"2020-02-01 00:00:00\",\n          \"2021-03-01 00:00:00\"\n        ],\n        \"semantic_type\": \"\",\n        \"description\": \"\"\n      }\n    },\n    {\n      \"column\": \"aantal\",\n      \"properties\": {\n        \"dtype\": \"number\",\n        \"std\": 25,\n        \"min\": 343,\n        \"max\": 416,\n        \"num_unique_values\": 26,\n        \"samples\": [\n          409,\n          416,\n          350\n        ],\n        \"semantic_type\": \"\",\n        \"description\": \"\"\n      }\n    },\n    {\n      \"column\": \"TES\",\n      \"properties\": {\n        \"dtype\": \"number\",\n        \"std\": 25.567860306470585,\n        \"min\": 345.79169356145496,\n        \"max\": 413.54161250283283,\n        \"num_unique_values\": 36,\n        \"samples\": [\n          356.1250942946024,\n          349.9999761014295,\n          350.79168399781884\n        ],\n        \"semantic_type\": \"\",\n        \"description\": \"\"\n      }\n    }\n  ]\n}",
              "type": "dataframe",
              "variable_name": "dfwerknemers"
            },
            "text/html": [
              "\n",
              "  <div id=\"df-df366b2a-0202-4545-b814-4513d7b02d8e\" class=\"colab-df-container\">\n",
              "    <div>\n",
              "<style scoped>\n",
              "    .dataframe tbody tr th:only-of-type {\n",
              "        vertical-align: middle;\n",
              "    }\n",
              "\n",
              "    .dataframe tbody tr th {\n",
              "        vertical-align: top;\n",
              "    }\n",
              "\n",
              "    .dataframe thead th {\n",
              "        text-align: right;\n",
              "    }\n",
              "</style>\n",
              "<table border=\"1\" class=\"dataframe\">\n",
              "  <thead>\n",
              "    <tr style=\"text-align: right;\">\n",
              "      <th></th>\n",
              "      <th>aantal</th>\n",
              "      <th>TES</th>\n",
              "    </tr>\n",
              "    <tr>\n",
              "      <th>datum</th>\n",
              "      <th></th>\n",
              "      <th></th>\n",
              "    </tr>\n",
              "  </thead>\n",
              "  <tbody>\n",
              "    <tr>\n",
              "      <th>2019-01-01</th>\n",
              "      <td>350</td>\n",
              "      <td>348.874865</td>\n",
              "    </tr>\n",
              "    <tr>\n",
              "      <th>2019-02-01</th>\n",
              "      <td>348</td>\n",
              "      <td>350.208237</td>\n",
              "    </tr>\n",
              "    <tr>\n",
              "      <th>2019-03-01</th>\n",
              "      <td>353</td>\n",
              "      <td>351.208205</td>\n",
              "    </tr>\n",
              "    <tr>\n",
              "      <th>2019-04-01</th>\n",
              "      <td>353</td>\n",
              "      <td>353.541570</td>\n",
              "    </tr>\n",
              "    <tr>\n",
              "      <th>2019-05-01</th>\n",
              "      <td>349</td>\n",
              "      <td>346.208215</td>\n",
              "    </tr>\n",
              "  </tbody>\n",
              "</table>\n",
              "</div>\n",
              "    <div class=\"colab-df-buttons\">\n",
              "\n",
              "  <div class=\"colab-df-container\">\n",
              "    <button class=\"colab-df-convert\" onclick=\"convertToInteractive('df-df366b2a-0202-4545-b814-4513d7b02d8e')\"\n",
              "            title=\"Convert this dataframe to an interactive table.\"\n",
              "            style=\"display:none;\">\n",
              "\n",
              "  <svg xmlns=\"http://www.w3.org/2000/svg\" height=\"24px\" viewBox=\"0 -960 960 960\">\n",
              "    <path d=\"M120-120v-720h720v720H120Zm60-500h600v-160H180v160Zm220 220h160v-160H400v160Zm0 220h160v-160H400v160ZM180-400h160v-160H180v160Zm440 0h160v-160H620v160ZM180-180h160v-160H180v160Zm440 0h160v-160H620v160Z\"/>\n",
              "  </svg>\n",
              "    </button>\n",
              "\n",
              "  <style>\n",
              "    .colab-df-container {\n",
              "      display:flex;\n",
              "      gap: 12px;\n",
              "    }\n",
              "\n",
              "    .colab-df-convert {\n",
              "      background-color: #E8F0FE;\n",
              "      border: none;\n",
              "      border-radius: 50%;\n",
              "      cursor: pointer;\n",
              "      display: none;\n",
              "      fill: #1967D2;\n",
              "      height: 32px;\n",
              "      padding: 0 0 0 0;\n",
              "      width: 32px;\n",
              "    }\n",
              "\n",
              "    .colab-df-convert:hover {\n",
              "      background-color: #E2EBFA;\n",
              "      box-shadow: 0px 1px 2px rgba(60, 64, 67, 0.3), 0px 1px 3px 1px rgba(60, 64, 67, 0.15);\n",
              "      fill: #174EA6;\n",
              "    }\n",
              "\n",
              "    .colab-df-buttons div {\n",
              "      margin-bottom: 4px;\n",
              "    }\n",
              "\n",
              "    [theme=dark] .colab-df-convert {\n",
              "      background-color: #3B4455;\n",
              "      fill: #D2E3FC;\n",
              "    }\n",
              "\n",
              "    [theme=dark] .colab-df-convert:hover {\n",
              "      background-color: #434B5C;\n",
              "      box-shadow: 0px 1px 3px 1px rgba(0, 0, 0, 0.15);\n",
              "      filter: drop-shadow(0px 1px 2px rgba(0, 0, 0, 0.3));\n",
              "      fill: #FFFFFF;\n",
              "    }\n",
              "  </style>\n",
              "\n",
              "    <script>\n",
              "      const buttonEl =\n",
              "        document.querySelector('#df-df366b2a-0202-4545-b814-4513d7b02d8e button.colab-df-convert');\n",
              "      buttonEl.style.display =\n",
              "        google.colab.kernel.accessAllowed ? 'block' : 'none';\n",
              "\n",
              "      async function convertToInteractive(key) {\n",
              "        const element = document.querySelector('#df-df366b2a-0202-4545-b814-4513d7b02d8e');\n",
              "        const dataTable =\n",
              "          await google.colab.kernel.invokeFunction('convertToInteractive',\n",
              "                                                    [key], {});\n",
              "        if (!dataTable) return;\n",
              "\n",
              "        const docLinkHtml = 'Like what you see? Visit the ' +\n",
              "          '<a target=\"_blank\" href=https://colab.research.google.com/notebooks/data_table.ipynb>data table notebook</a>'\n",
              "          + ' to learn more about interactive tables.';\n",
              "        element.innerHTML = '';\n",
              "        dataTable['output_type'] = 'display_data';\n",
              "        await google.colab.output.renderOutput(dataTable, element);\n",
              "        const docLink = document.createElement('div');\n",
              "        docLink.innerHTML = docLinkHtml;\n",
              "        element.appendChild(docLink);\n",
              "      }\n",
              "    </script>\n",
              "  </div>\n",
              "\n",
              "\n",
              "    <div id=\"df-11f4b984-97df-431a-a821-cd84f3de99bc\">\n",
              "      <button class=\"colab-df-quickchart\" onclick=\"quickchart('df-11f4b984-97df-431a-a821-cd84f3de99bc')\"\n",
              "                title=\"Suggest charts\"\n",
              "                style=\"display:none;\">\n",
              "\n",
              "<svg xmlns=\"http://www.w3.org/2000/svg\" height=\"24px\"viewBox=\"0 0 24 24\"\n",
              "     width=\"24px\">\n",
              "    <g>\n",
              "        <path d=\"M19 3H5c-1.1 0-2 .9-2 2v14c0 1.1.9 2 2 2h14c1.1 0 2-.9 2-2V5c0-1.1-.9-2-2-2zM9 17H7v-7h2v7zm4 0h-2V7h2v10zm4 0h-2v-4h2v4z\"/>\n",
              "    </g>\n",
              "</svg>\n",
              "      </button>\n",
              "\n",
              "<style>\n",
              "  .colab-df-quickchart {\n",
              "      --bg-color: #E8F0FE;\n",
              "      --fill-color: #1967D2;\n",
              "      --hover-bg-color: #E2EBFA;\n",
              "      --hover-fill-color: #174EA6;\n",
              "      --disabled-fill-color: #AAA;\n",
              "      --disabled-bg-color: #DDD;\n",
              "  }\n",
              "\n",
              "  [theme=dark] .colab-df-quickchart {\n",
              "      --bg-color: #3B4455;\n",
              "      --fill-color: #D2E3FC;\n",
              "      --hover-bg-color: #434B5C;\n",
              "      --hover-fill-color: #FFFFFF;\n",
              "      --disabled-bg-color: #3B4455;\n",
              "      --disabled-fill-color: #666;\n",
              "  }\n",
              "\n",
              "  .colab-df-quickchart {\n",
              "    background-color: var(--bg-color);\n",
              "    border: none;\n",
              "    border-radius: 50%;\n",
              "    cursor: pointer;\n",
              "    display: none;\n",
              "    fill: var(--fill-color);\n",
              "    height: 32px;\n",
              "    padding: 0;\n",
              "    width: 32px;\n",
              "  }\n",
              "\n",
              "  .colab-df-quickchart:hover {\n",
              "    background-color: var(--hover-bg-color);\n",
              "    box-shadow: 0 1px 2px rgba(60, 64, 67, 0.3), 0 1px 3px 1px rgba(60, 64, 67, 0.15);\n",
              "    fill: var(--button-hover-fill-color);\n",
              "  }\n",
              "\n",
              "  .colab-df-quickchart-complete:disabled,\n",
              "  .colab-df-quickchart-complete:disabled:hover {\n",
              "    background-color: var(--disabled-bg-color);\n",
              "    fill: var(--disabled-fill-color);\n",
              "    box-shadow: none;\n",
              "  }\n",
              "\n",
              "  .colab-df-spinner {\n",
              "    border: 2px solid var(--fill-color);\n",
              "    border-color: transparent;\n",
              "    border-bottom-color: var(--fill-color);\n",
              "    animation:\n",
              "      spin 1s steps(1) infinite;\n",
              "  }\n",
              "\n",
              "  @keyframes spin {\n",
              "    0% {\n",
              "      border-color: transparent;\n",
              "      border-bottom-color: var(--fill-color);\n",
              "      border-left-color: var(--fill-color);\n",
              "    }\n",
              "    20% {\n",
              "      border-color: transparent;\n",
              "      border-left-color: var(--fill-color);\n",
              "      border-top-color: var(--fill-color);\n",
              "    }\n",
              "    30% {\n",
              "      border-color: transparent;\n",
              "      border-left-color: var(--fill-color);\n",
              "      border-top-color: var(--fill-color);\n",
              "      border-right-color: var(--fill-color);\n",
              "    }\n",
              "    40% {\n",
              "      border-color: transparent;\n",
              "      border-right-color: var(--fill-color);\n",
              "      border-top-color: var(--fill-color);\n",
              "    }\n",
              "    60% {\n",
              "      border-color: transparent;\n",
              "      border-right-color: var(--fill-color);\n",
              "    }\n",
              "    80% {\n",
              "      border-color: transparent;\n",
              "      border-right-color: var(--fill-color);\n",
              "      border-bottom-color: var(--fill-color);\n",
              "    }\n",
              "    90% {\n",
              "      border-color: transparent;\n",
              "      border-bottom-color: var(--fill-color);\n",
              "    }\n",
              "  }\n",
              "</style>\n",
              "\n",
              "      <script>\n",
              "        async function quickchart(key) {\n",
              "          const quickchartButtonEl =\n",
              "            document.querySelector('#' + key + ' button');\n",
              "          quickchartButtonEl.disabled = true;  // To prevent multiple clicks.\n",
              "          quickchartButtonEl.classList.add('colab-df-spinner');\n",
              "          try {\n",
              "            const charts = await google.colab.kernel.invokeFunction(\n",
              "                'suggestCharts', [key], {});\n",
              "          } catch (error) {\n",
              "            console.error('Error during call to suggestCharts:', error);\n",
              "          }\n",
              "          quickchartButtonEl.classList.remove('colab-df-spinner');\n",
              "          quickchartButtonEl.classList.add('colab-df-quickchart-complete');\n",
              "        }\n",
              "        (() => {\n",
              "          let quickchartButtonEl =\n",
              "            document.querySelector('#df-11f4b984-97df-431a-a821-cd84f3de99bc button');\n",
              "          quickchartButtonEl.style.display =\n",
              "            google.colab.kernel.accessAllowed ? 'block' : 'none';\n",
              "        })();\n",
              "      </script>\n",
              "    </div>\n",
              "\n",
              "    </div>\n",
              "  </div>\n"
            ],
            "text/plain": [
              "            aantal         TES\n",
              "datum                         \n",
              "2019-01-01     350  348.874865\n",
              "2019-02-01     348  350.208237\n",
              "2019-03-01     353  351.208205\n",
              "2019-04-01     353  353.541570\n",
              "2019-05-01     349  346.208215"
            ]
          },
          "execution_count": 42,
          "metadata": {},
          "output_type": "execute_result"
        }
      ],
      "source": [
        "# 4 Maak een voorspelling voor de eerste vier maanden van het volgende jaar met behulp van de meest geschikte methode.\n",
        "# Leg uit waarom je voor deze methode kiest.\n",
        "# Holt Winters omdat er een trend + seasonal component is\n",
        "\n",
        "from statsmodels.tsa.holtwinters import ExponentialSmoothing\n",
        "\n",
        "model = ExponentialSmoothing(dfwerknemers['aantal'],\n",
        "  trend='add', seasonal='add',\n",
        "  seasonal_periods=12, freq='MS').fit()\n",
        "\n",
        "dfwerknemers['TES'] = model.fittedvalues\n",
        "dfwerknemers.head()"
      ]
    },
    {
      "cell_type": "code",
      "execution_count": 43,
      "metadata": {
        "id": "vJw_Mieh4pO5"
      },
      "outputs": [],
      "source": [
        "predicted = model.forecast(12)"
      ]
    },
    {
      "cell_type": "code",
      "execution_count": 44,
      "metadata": {
        "colab": {
          "base_uri": "https://localhost:8080/",
          "height": 505
        },
        "id": "Nuu8oBh-Y3sB",
        "outputId": "ff57d768-d6a1-4273-9e65-d7466fc25b0a"
      },
      "outputs": [
        {
          "data": {
            "text/plain": [
              "Text(0.5, 1.0, 'Aantal werknemers Voedingsverwerkend bedrijf')"
            ]
          },
          "execution_count": 44,
          "metadata": {},
          "output_type": "execute_result"
        },
        {
          "data": {
            "image/png": "[encoded data removed]",
            "text/plain": [
              "<Figure size 640x480 with 1 Axes>"
            ]
          },
          "metadata": {},
          "output_type": "display_data"
        }
      ],
      "source": [
        "# 5. Maak een plot inclusief de prognose.\n",
        "\n",
        "dfwerknemers['aantal'].plot(legend=True, label='train')\n",
        "dfwerknemers['TES'].plot(legend=True, label='fitted')\n",
        "\n",
        "predicted.plot(legend=True, label='predicted')\n",
        "\n",
        "plt.title('Aantal werknemers Voedingsverwerkend bedrijf')"
      ]
    },
    {
      "cell_type": "code",
      "execution_count": 45,
      "metadata": {
        "colab": {
          "base_uri": "https://localhost:8080/"
        },
        "id": "l_vPyzQ0TQJZ",
        "outputId": "e06b432d-eee0-4e79-a6d1-805a9f889f0c"
      },
      "outputs": [
        {
          "name": "stdout",
          "output_type": "stream",
          "text": [
            "ant6_1= 373.5\n",
            "9\n"
          ]
        }
      ],
      "source": [
        "# 6.1. Bereken het gemiddeld aantal werknemers in 2020\n",
        "ant6_1= dfwerknemers['2020/01/01':'2020/12/01']['aantal'].mean()\n",
        "print(\"ant6_1=\", ant6_1)\n",
        "\n",
        "\n",
        "# 6.2. Hoeveel maanden telde het bedrijf meer dan 400 werknemers?\n",
        "print(dfwerknemers[dfwerknemers.aantal > 400]['aantal'].count())"
      ]
    },
    {
      "cell_type": "markdown",
      "metadata": {
        "id": "Pv2tqUBb9vRs"
      },
      "source": [
        "## Vraag 8 [5 pt]\n",
        "Een toenemende zorg van werkgevers is de tijd die werknemers besteden aan 'surfen op het net voor niet professionele doeleinden'. Men schat dat per werknemer 2 uur per dag hieraan verloren gaat. Stel dat de CEO van een groot bedrijf wil bepalen of de gemiddelde hoeveelheid verspilde tijd minder is dan de gerapporteerde 120 minuten. In een willekeurige steekproef worden 10 werknemers gecontacteerd en wordt gevraagd naar de dagelijks verspilde tijd op het werk. (Er wordt waarschijnlijk anonimiteit gegarandeerd om waarheidsgetrouwe antwoorden te krijgen).\n",
        "Bewijzen de onderstaande gegevens dat de gemiddelde verspilde tijd voor dit bedrijf minder dan 120 minuten is?\n",
        "Voer een test uit met 5% significance level om deze vraag te beantwoorden.\n",
        "\n",
        "1. Welke hypothesetoets ga je toepassen om deze onderzoeksvraag te beantwoorden? Wees zo specifiek mogelijk! T of z; 'speelt g rol; zie mod.ant ('wèér (t)) / LET\n",
        "2. Formuleer de nulhypothese en de alternatieve hypothese c-l\n",
        "3. Bereken de gepaste toetsingsgrootheid (teststatistiek) voor deze toets. Geef het symbool en de waarde xbar= 116,8 u (òf 125,5 (ca. (t)))   -1.07091     125,478 (t)\n",
        "4. Bereken de p-waarde 0,8440      <<=====>> 0.156\n",
        "5. Trek een besluit op basis van de vorige stap en formuleer een antwoord op de onderzoeksvraag. H0 behouden; n minder"
      ]
    },
    {
      "cell_type": "code",
      "execution_count": 46,
      "metadata": {
        "id": "x0rS_bV5SKK7"
      },
      "outputs": [],
      "source": [
        "verspilde_tijd = [108, 112, 117, 130, 111, 131, 113, 113, 105, 128]"
      ]
    },
    {
      "cell_type": "markdown",
      "metadata": {
        "id": "yr50A15m-I67"
      },
      "source": [
        "The testing procedure then runs as follows:\n",
        "\n",
        "**Step 1.** Formulate the hypotheses:\n",
        "\n",
        "- $H_0: \\mu = 120$\n",
        "- $H_1: \\mu < 120$\n",
        "\n",
        "**Step 2.** Choose a significance level, e.g. $\\alpha = 0.05$"
      ]
    },
    {
      "cell_type": "code",
      "execution_count": 47,
      "metadata": {
        "colab": {
          "base_uri": "https://localhost:8080/"
        },
        "id": "9HKlYn9idQOg",
        "outputId": "a115b685-a688-4b56-8dfc-a9afce03045c"
      },
      "outputs": [
        {
          "name": "stdout",
          "output_type": "stream",
          "text": [
            "10 116.8 9.44927980794774 0.05 120\n"
          ]
        }
      ],
      "source": [
        "# Properties of the sample:\n",
        "n = len(verspilde_tijd)      # sample size\n",
        "sm =  np.mean(verspilde_tijd)  # sample mean\n",
        "s = np.std(verspilde_tijd, ddof = 1)\n",
        "a = 0.05    # significance level (chosen by the researcher)\n",
        "m0 = 120   # hypothetical population mean (H0)\n",
        "print(n, sm, s, a, m0)"
      ]
    },
    {
      "cell_type": "markdown",
      "metadata": {
        "id": "YTrW23ez-VVi"
      },
      "source": [
        "A plot of this case:"
      ]
    },
    {
      "cell_type": "code",
      "execution_count": 48,
      "metadata": {
        "colab": {
          "base_uri": "https://localhost:8080/",
          "height": 447
        },
        "id": "i1oqVTModQOj",
        "outputId": "85e6ace9-ec31-4954-bf44-758021106d25"
      },
      "outputs": [
        {
          "data": {
            "text/plain": [
              "<matplotlib.lines.Line2D at 0x7c79a57378d0>"
            ]
          },
          "execution_count": 48,
          "metadata": {},
          "output_type": "execute_result"
        },
        {
          "data": {
            "image/png": "[encoded data removed]",
            "text/plain": [
              "<Figure size 640x480 with 1 Axes>"
            ]
          },
          "metadata": {},
          "output_type": "display_data"
        }
      ],
      "source": [
        "# Gauss-curve plot:\n",
        "# X-values\n",
        "dist_x = np.linspace(m0 - 4 * s/np.sqrt(n), m0 + 4 * s/np.sqrt(n), num=201)\n",
        "# Y-values for the Gauss curve\n",
        "dist_y = stats.t.pdf(dist_x, loc = m0, scale = s/np.sqrt(n), df = n - 1)\n",
        "fig, dplot = plt.subplots(1, 1)\n",
        "# Plot the Gauss-curve\n",
        "dplot.plot(dist_x, dist_y)\n",
        "# Show the hypothetical population mean with an orange line\n",
        "dplot.axvline(m0, color=\"orange\", lw=2)\n",
        "# Show the sample mean with a red line\n",
        "dplot.axvline(sm, color=\"red\")"
      ]
    },
    {
      "cell_type": "markdown",
      "metadata": {
        "id": "VjI7JCma9-l7"
      },
      "source": [
        "**Step 3.** Determine the value of the test statistic, in this case $\\overline{x} = 116.800$"
      ]
    },
    {
      "cell_type": "markdown",
      "metadata": {
        "id": "f7de7I4sdQOg"
      },
      "source": [
        "**Step 4.**\n",
        "\n",
        "<u>Method 1</u>\n",
        "\n",
        "Determine the $p$-value and reject $H_0$ if $p < \\alpha$.\n",
        "The $p$-value is the probability, if the null hypothesis is true, to obtain\n",
        "a value for the test statistic that is at least as extreme as the\n",
        "observed value\n"
      ]
    },
    {
      "cell_type": "code",
      "execution_count": 49,
      "metadata": {
        "colab": {
          "base_uri": "https://localhost:8080/"
        },
        "id": "DdhTym82dQOh",
        "outputId": "50ebe34f-ae6f-4781-8750-8e99ed0c4a3d"
      },
      "outputs": [
        {
          "name": "stdout",
          "output_type": "stream",
          "text": [
            "p-value: 0.84396\n",
            "p > a: do not reject H0\n"
          ]
        }
      ],
      "source": [
        "p = stats.t.sf(sm, loc=m0, scale=s/np.sqrt(n), df = n -1)\n",
        "print(\"p-value: %.5f\" % p)\n",
        "if(p < a):\n",
        "    print(\"p < a: reject H0\")\n",
        "else:\n",
        "    print(\"p > a: do not reject H0\")"
      ]
    },
    {
      "cell_type": "markdown",
      "metadata": {
        "id": "DzN13-2UdQOh"
      },
      "source": [
        "<u>Method 2</u>\n",
        "\n",
        "An alternative method is to determine the critical region, i.e. the set of all values for the sample mean where $H_0$ may be rejected.\n",
        "The boundary of that area is called the critical value $g$. To the left of it you can't reject $H_0$ (acceptance region), to the right you can (critical region). The area of the acceptance region is $1 - \\alpha$, the area of the critical region is $\\alpha$."
      ]
    },
    {
      "cell_type": "code",
      "execution_count": 50,
      "metadata": {
        "colab": {
          "base_uri": "https://localhost:8080/"
        },
        "id": "SFsV3XpKdQOi",
        "outputId": "ed635869-b857-43f8-e652-d64afef00174"
      },
      "outputs": [
        {
          "name": "stdout",
          "output_type": "stream",
          "text": [
            "Critical value g ≃ 125.478\n",
            "sample mean = 116.800 < g = 125.478: do not reject H0\n"
          ]
        }
      ],
      "source": [
        "g = stats.t.isf(a, loc = m0, scale = s / np.sqrt(n), df = n - 1)\n",
        "print(\"Critical value g ≃ %.3f\" % g)\n",
        "if (sm < g):\n",
        "    print(\"sample mean = %.3f < g = %.3f: do not reject H0\" % (sm, g))\n",
        "else:\n",
        "    print(\"sample mean = %.3f > g = %.3f: reject H0\" % (sm, g))"
      ]
    },
    {
      "cell_type": "markdown",
      "metadata": {
        "id": "RtdNAERA-hRL"
      },
      "source": [
        "**Step 5**\n",
        "We can conclude that there is not enough evidence to reject the null hypothesis."
      ]
    },
    {
      "cell_type": "markdown",
      "metadata": {
        "id": "r5iZmp1m9HVM"
      },
      "source": [
        "## Vraag 9 [6 pt]\n",
        "\n",
        "Een maatstaf voor het succes van een knieoperatie is het bewegingsbereik van het kniegewricht na de operatie. Het postoperatieve bewegingsbereik werd geregistreerd voor 12 patiënten na een knieoperatie. De leeftijd van elke patiënt werd ook geregistreerd. De gegevens zijn hieronder gegeven.\n",
        "\n",
        "1. Maak de onderstaande grafiek\n",
        "2. Geef de vergelijking van de regressierechte   ===>> y= 107.58 + x.0,87\n",
        "3. Geef het geschatte bewegingsbereik van iemand van 38 jaar oud.   ===>> 140,68\n",
        "4. Bereken de correlatiecoëfficient (symbool + waarde)   ===>> r= 0,5534\n",
        "5. Geef de interpretatie voor de waarde van de correlatiecoëfficient\n",
        "6. Stel dat we het bewegingsbereik uitdrukken als een hoek in radialen in plaats van een hoek in graden, zal de waarde van de correlatiecoëfficient dan veranderen? Illustreer je antwoord met de opgegeven data.\n",
        "hoek in radialen = hoek in graden / 180 * $π$\n"
      ]
    },
    {
      "cell_type": "code",
      "execution_count": 51,
      "metadata": {
        "id": "iiQ-vEKh9vzC"
      },
      "outputs": [],
      "source": [
        "dfknie = pd.DataFrame(data={'leeftijd': [35, 24, 40, 31, 28, 25, 26, 16, 14, 20, 21, 30],\n",
        "                            'bewegingsbereik': [154, 142, 137, 133, 122, 126, 135, 135, 108, 120, 127, 122]})"
      ]
    },
    {
      "cell_type": "code",
      "execution_count": 52,
      "metadata": {
        "colab": {
          "base_uri": "https://localhost:8080/",
          "height": 466
        },
        "id": "KVKio3DKAeQ_",
        "outputId": "8da7dfdc-2242-49a8-efb0-267c695c6997"
      },
      "outputs": [
        {
          "data": {
            "text/plain": [
              "<Axes: xlabel='leeftijd', ylabel='bewegingsbereik'>"
            ]
          },
          "execution_count": 52,
          "metadata": {},
          "output_type": "execute_result"
        },
        {
          "data": {
            "image/png": "[encoded data removed]",
            "text/plain": [
              "<Figure size 640x480 with 1 Axes>"
            ]
          },
          "metadata": {},
          "output_type": "display_data"
        }
      ],
      "source": [
        "# (1) Maak de onderstaande grafiek\n",
        "sns.regplot(x=dfknie.leeftijd, y=dfknie.bewegingsbereik)"
      ]
    },
    {
      "cell_type": "code",
      "execution_count": 53,
      "metadata": {
        "colab": {
          "base_uri": "https://localhost:8080/"
        },
        "id": "y4WHtUF-BwKr",
        "outputId": "e0dff650-1802-4234-d8c9-8c30cfc5a48e"
      },
      "outputs": [
        {
          "name": "stdout",
          "output_type": "stream",
          "text": [
            "Regression line: ŷ = 107.58311345646442 + 0.8709762532981523 x\n"
          ]
        }
      ],
      "source": [
        "# (2) Geef de vergelijking van de regressierechte\n",
        "from sklearn.linear_model import LinearRegression\n",
        "\n",
        "x = dfknie.leeftijd.values.reshape(-1,1)\n",
        "y = dfknie.bewegingsbereik\n",
        "\n",
        "model = LinearRegression().fit(x, y)\n",
        "\n",
        "print(f\"Regression line: ŷ = {model.intercept_} + {model.coef_[0]} x\")"
      ]
    },
    {
      "cell_type": "code",
      "execution_count": 54,
      "metadata": {
        "colab": {
          "base_uri": "https://localhost:8080/"
        },
        "id": "bYs3HO8eCBC0",
        "outputId": "0afdf767-5dd2-40e5-c25b-3a42b31e354e"
      },
      "outputs": [
        {
          "name": "stdout",
          "output_type": "stream",
          "text": [
            "r= 0.5534\n",
            "R² = 0.3062\n"
          ]
        }
      ],
      "source": [
        "# (3) Calculate the determination coefficient (symbol + value)\n",
        "cor = np.corrcoef(dfknie.leeftijd, dfknie.bewegingsbereik)[0][1]\n",
        "print('r=', round(cor, 4))\n",
        "print(f\"R² = {round(cor ** 2, 4)}\")"
      ]
    },
    {
      "cell_type": "code",
      "execution_count": 55,
      "metadata": {
        "id": "XV4akwwJCQYa"
      },
      "outputs": [],
      "source": [
        "# (4) Formulate an interpretation\n",
        "# R² ~ 0.3: matig verband + 30% van de variantie van de afhankelijk veranderlijke wordt verklaard door de afhankelijk veranderlijke\n",
        "# Als de eenheden veranderen, zal de waarde van R² niet veranderen"
      ]
    },
    {
      "cell_type": "code",
      "execution_count": 56,
      "metadata": {
        "colab": {
          "base_uri": "https://localhost:8080/"
        },
        "id": "hYYbSE8wDDoa",
        "outputId": "630d6356-5dfb-4464-a7cd-514b27a7febf"
      },
      "outputs": [
        {
          "name": "stdout",
          "output_type": "stream",
          "text": [
            "R² = 0.3062\n"
          ]
        }
      ],
      "source": [
        "# (5) Stel dat we het bewegingsbereik uitdrukken als een hoek in radialen in plaats van een hoek in graden, zal de waarde van de determinatiecoëfficiënt dan veranderen?\n",
        "# Illustreer je antwoord met de opgegeven data.\n",
        "# hoek in radialen = hoek in graden / 180 *  π\n",
        "\n",
        "dfknie['radialen'] = dfknie['bewegingsbereik'] / 180 * 3.14\n",
        "cor = np.corrcoef(dfknie.leeftijd, dfknie.radialen)[0][1]\n",
        "print(f\"R² = {round(cor ** 2, 4)}\")"
      ]
    },
    {
      "cell_type": "code",
      "execution_count": 57,
      "metadata": {
        "colab": {
          "base_uri": "https://localhost:8080/"
        },
        "id": "gq9HfXjnDYXV",
        "outputId": "2f988420-5f36-4aa4-ce6d-d227e10311df"
      },
      "outputs": [
        {
          "name": "stdout",
          "output_type": "stream",
          "text": [
            "R² = 0.3062\n"
          ]
        }
      ],
      "source": [
        "cor = np.corrcoef(dfknie.leeftijd, dfknie.radialen)[0][1]\n",
        "print(f\"R² = {round(cor ** 2, 4)}\")"
      ]
    },
    {
      "cell_type": "code",
      "execution_count": 58,
      "metadata": {
        "colab": {
          "base_uri": "https://localhost:8080/"
        },
        "id": "zbqzM5uCCZ7i",
        "outputId": "f7b9b5b7-0ada-4adb-b8cd-2e544ca04439"
      },
      "outputs": [
        {
          "name": "stdout",
          "output_type": "stream",
          "text": [
            "140.6802\n"
          ]
        }
      ],
      "source": [
        "# (6) Geef het geschatte bewegingsbereik van iemand van 38 jaar oud.\n",
        "print(round(model.predict([[38]])[0], 4))"
      ]
    },
    {
      "cell_type": "code",
      "execution_count": 59,
      "metadata": {
        "colab": {
          "base_uri": "https://localhost:8080/",
          "height": 206
        },
        "id": "yLMQXe7mEou8",
        "outputId": "2f5c030e-5704-44a7-a0b9-c68de3ae15c4"
      },
      "outputs": [
        {
          "data": {
            "application/vnd.google.colaboratory.intrinsic+json": {
              "summary": "{\n  \"name\": \"dfknie\",\n  \"rows\": 12,\n  \"fields\": [\n    {\n      \"column\": \"leeftijd\",\n      \"properties\": {\n        \"dtype\": \"number\",\n        \"std\": 7,\n        \"min\": 14,\n        \"max\": 40,\n        \"num_unique_values\": 12,\n        \"samples\": [\n          21,\n          20,\n          35\n        ],\n        \"semantic_type\": \"\",\n        \"description\": \"\"\n      }\n    },\n    {\n      \"column\": \"bewegingsbereik\",\n      \"properties\": {\n        \"dtype\": \"number\",\n        \"std\": 11,\n        \"min\": 108,\n        \"max\": 154,\n        \"num_unique_values\": 10,\n        \"samples\": [\n          120,\n          142,\n          126\n        ],\n        \"semantic_type\": \"\",\n        \"description\": \"\"\n      }\n    },\n    {\n      \"column\": \"radialen\",\n      \"properties\": {\n        \"dtype\": \"number\",\n        \"std\": 0.20806853452165058,\n        \"min\": 1.884,\n        \"max\": 2.6864444444444446,\n        \"num_unique_values\": 10,\n        \"samples\": [\n          2.0933333333333333,\n          2.4771111111111113,\n          2.198\n        ],\n        \"semantic_type\": \"\",\n        \"description\": \"\"\n      }\n    },\n    {\n      \"column\": \"voorspelling\",\n      \"properties\": {\n        \"dtype\": \"number\",\n        \"std\": 6.6001522160330515,\n        \"min\": 119.77678100263856,\n        \"max\": 142.4221635883905,\n        \"num_unique_values\": 12,\n        \"samples\": [\n          125.87361477572561,\n          125.00263852242746,\n          138.06728232189974\n        ],\n        \"semantic_type\": \"\",\n        \"description\": \"\"\n      }\n    }\n  ]\n}",
              "type": "dataframe",
              "variable_name": "dfknie"
            },
            "text/html": [
              "\n",
              "  <div id=\"df-f48891b3-dda7-4641-9a15-552715b8cccf\" class=\"colab-df-container\">\n",
              "    <div>\n",
              "<style scoped>\n",
              "    .dataframe tbody tr th:only-of-type {\n",
              "        vertical-align: middle;\n",
              "    }\n",
              "\n",
              "    .dataframe tbody tr th {\n",
              "        vertical-align: top;\n",
              "    }\n",
              "\n",
              "    .dataframe thead th {\n",
              "        text-align: right;\n",
              "    }\n",
              "</style>\n",
              "<table border=\"1\" class=\"dataframe\">\n",
              "  <thead>\n",
              "    <tr style=\"text-align: right;\">\n",
              "      <th></th>\n",
              "      <th>leeftijd</th>\n",
              "      <th>bewegingsbereik</th>\n",
              "      <th>radialen</th>\n",
              "      <th>voorspelling</th>\n",
              "    </tr>\n",
              "  </thead>\n",
              "  <tbody>\n",
              "    <tr>\n",
              "      <th>0</th>\n",
              "      <td>35</td>\n",
              "      <td>154</td>\n",
              "      <td>2.686444</td>\n",
              "      <td>138.067282</td>\n",
              "    </tr>\n",
              "    <tr>\n",
              "      <th>1</th>\n",
              "      <td>24</td>\n",
              "      <td>142</td>\n",
              "      <td>2.477111</td>\n",
              "      <td>128.486544</td>\n",
              "    </tr>\n",
              "    <tr>\n",
              "      <th>2</th>\n",
              "      <td>40</td>\n",
              "      <td>137</td>\n",
              "      <td>2.389889</td>\n",
              "      <td>142.422164</td>\n",
              "    </tr>\n",
              "    <tr>\n",
              "      <th>3</th>\n",
              "      <td>31</td>\n",
              "      <td>133</td>\n",
              "      <td>2.320111</td>\n",
              "      <td>134.583377</td>\n",
              "    </tr>\n",
              "    <tr>\n",
              "      <th>4</th>\n",
              "      <td>28</td>\n",
              "      <td>122</td>\n",
              "      <td>2.128222</td>\n",
              "      <td>131.970449</td>\n",
              "    </tr>\n",
              "  </tbody>\n",
              "</table>\n",
              "</div>\n",
              "    <div class=\"colab-df-buttons\">\n",
              "\n",
              "  <div class=\"colab-df-container\">\n",
              "    <button class=\"colab-df-convert\" onclick=\"convertToInteractive('df-f48891b3-dda7-4641-9a15-552715b8cccf')\"\n",
              "            title=\"Convert this dataframe to an interactive table.\"\n",
              "            style=\"display:none;\">\n",
              "\n",
              "  <svg xmlns=\"http://www.w3.org/2000/svg\" height=\"24px\" viewBox=\"0 -960 960 960\">\n",
              "    <path d=\"M120-120v-720h720v720H120Zm60-500h600v-160H180v160Zm220 220h160v-160H400v160Zm0 220h160v-160H400v160ZM180-400h160v-160H180v160Zm440 0h160v-160H620v160ZM180-180h160v-160H180v160Zm440 0h160v-160H620v160Z\"/>\n",
              "  </svg>\n",
              "    </button>\n",
              "\n",
              "  <style>\n",
              "    .colab-df-container {\n",
              "      display:flex;\n",
              "      gap: 12px;\n",
              "    }\n",
              "\n",
              "    .colab-df-convert {\n",
              "      background-color: #E8F0FE;\n",
              "      border: none;\n",
              "      border-radius: 50%;\n",
              "      cursor: pointer;\n",
              "      display: none;\n",
              "      fill: #1967D2;\n",
              "      height: 32px;\n",
              "      padding: 0 0 0 0;\n",
              "      width: 32px;\n",
              "    }\n",
              "\n",
              "    .colab-df-convert:hover {\n",
              "      background-color: #E2EBFA;\n",
              "      box-shadow: 0px 1px 2px rgba(60, 64, 67, 0.3), 0px 1px 3px 1px rgba(60, 64, 67, 0.15);\n",
              "      fill: #174EA6;\n",
              "    }\n",
              "\n",
              "    .colab-df-buttons div {\n",
              "      margin-bottom: 4px;\n",
              "    }\n",
              "\n",
              "    [theme=dark] .colab-df-convert {\n",
              "      background-color: #3B4455;\n",
              "      fill: #D2E3FC;\n",
              "    }\n",
              "\n",
              "    [theme=dark] .colab-df-convert:hover {\n",
              "      background-color: #434B5C;\n",
              "      box-shadow: 0px 1px 3px 1px rgba(0, 0, 0, 0.15);\n",
              "      filter: drop-shadow(0px 1px 2px rgba(0, 0, 0, 0.3));\n",
              "      fill: #FFFFFF;\n",
              "    }\n",
              "  </style>\n",
              "\n",
              "    <script>\n",
              "      const buttonEl =\n",
              "        document.querySelector('#df-f48891b3-dda7-4641-9a15-552715b8cccf button.colab-df-convert');\n",
              "      buttonEl.style.display =\n",
              "        google.colab.kernel.accessAllowed ? 'block' : 'none';\n",
              "\n",
              "      async function convertToInteractive(key) {\n",
              "        const element = document.querySelector('#df-f48891b3-dda7-4641-9a15-552715b8cccf');\n",
              "        const dataTable =\n",
              "          await google.colab.kernel.invokeFunction('convertToInteractive',\n",
              "                                                    [key], {});\n",
              "        if (!dataTable) return;\n",
              "\n",
              "        const docLinkHtml = 'Like what you see? Visit the ' +\n",
              "          '<a target=\"_blank\" href=https://colab.research.google.com/notebooks/data_table.ipynb>data table notebook</a>'\n",
              "          + ' to learn more about interactive tables.';\n",
              "        element.innerHTML = '';\n",
              "        dataTable['output_type'] = 'display_data';\n",
              "        await google.colab.output.renderOutput(dataTable, element);\n",
              "        const docLink = document.createElement('div');\n",
              "        docLink.innerHTML = docLinkHtml;\n",
              "        element.appendChild(docLink);\n",
              "      }\n",
              "    </script>\n",
              "  </div>\n",
              "\n",
              "\n",
              "    <div id=\"df-97131b0b-b06a-4391-855a-02d7631f5741\">\n",
              "      <button class=\"colab-df-quickchart\" onclick=\"quickchart('df-97131b0b-b06a-4391-855a-02d7631f5741')\"\n",
              "                title=\"Suggest charts\"\n",
              "                style=\"display:none;\">\n",
              "\n",
              "<svg xmlns=\"http://www.w3.org/2000/svg\" height=\"24px\"viewBox=\"0 0 24 24\"\n",
              "     width=\"24px\">\n",
              "    <g>\n",
              "        <path d=\"M19 3H5c-1.1 0-2 .9-2 2v14c0 1.1.9 2 2 2h14c1.1 0 2-.9 2-2V5c0-1.1-.9-2-2-2zM9 17H7v-7h2v7zm4 0h-2V7h2v10zm4 0h-2v-4h2v4z\"/>\n",
              "    </g>\n",
              "</svg>\n",
              "      </button>\n",
              "\n",
              "<style>\n",
              "  .colab-df-quickchart {\n",
              "      --bg-color: #E8F0FE;\n",
              "      --fill-color: #1967D2;\n",
              "      --hover-bg-color: #E2EBFA;\n",
              "      --hover-fill-color: #174EA6;\n",
              "      --disabled-fill-color: #AAA;\n",
              "      --disabled-bg-color: #DDD;\n",
              "  }\n",
              "\n",
              "  [theme=dark] .colab-df-quickchart {\n",
              "      --bg-color: #3B4455;\n",
              "      --fill-color: #D2E3FC;\n",
              "      --hover-bg-color: #434B5C;\n",
              "      --hover-fill-color: #FFFFFF;\n",
              "      --disabled-bg-color: #3B4455;\n",
              "      --disabled-fill-color: #666;\n",
              "  }\n",
              "\n",
              "  .colab-df-quickchart {\n",
              "    background-color: var(--bg-color);\n",
              "    border: none;\n",
              "    border-radius: 50%;\n",
              "    cursor: pointer;\n",
              "    display: none;\n",
              "    fill: var(--fill-color);\n",
              "    height: 32px;\n",
              "    padding: 0;\n",
              "    width: 32px;\n",
              "  }\n",
              "\n",
              "  .colab-df-quickchart:hover {\n",
              "    background-color: var(--hover-bg-color);\n",
              "    box-shadow: 0 1px 2px rgba(60, 64, 67, 0.3), 0 1px 3px 1px rgba(60, 64, 67, 0.15);\n",
              "    fill: var(--button-hover-fill-color);\n",
              "  }\n",
              "\n",
              "  .colab-df-quickchart-complete:disabled,\n",
              "  .colab-df-quickchart-complete:disabled:hover {\n",
              "    background-color: var(--disabled-bg-color);\n",
              "    fill: var(--disabled-fill-color);\n",
              "    box-shadow: none;\n",
              "  }\n",
              "\n",
              "  .colab-df-spinner {\n",
              "    border: 2px solid var(--fill-color);\n",
              "    border-color: transparent;\n",
              "    border-bottom-color: var(--fill-color);\n",
              "    animation:\n",
              "      spin 1s steps(1) infinite;\n",
              "  }\n",
              "\n",
              "  @keyframes spin {\n",
              "    0% {\n",
              "      border-color: transparent;\n",
              "      border-bottom-color: var(--fill-color);\n",
              "      border-left-color: var(--fill-color);\n",
              "    }\n",
              "    20% {\n",
              "      border-color: transparent;\n",
              "      border-left-color: var(--fill-color);\n",
              "      border-top-color: var(--fill-color);\n",
              "    }\n",
              "    30% {\n",
              "      border-color: transparent;\n",
              "      border-left-color: var(--fill-color);\n",
              "      border-top-color: var(--fill-color);\n",
              "      border-right-color: var(--fill-color);\n",
              "    }\n",
              "    40% {\n",
              "      border-color: transparent;\n",
              "      border-right-color: var(--fill-color);\n",
              "      border-top-color: var(--fill-color);\n",
              "    }\n",
              "    60% {\n",
              "      border-color: transparent;\n",
              "      border-right-color: var(--fill-color);\n",
              "    }\n",
              "    80% {\n",
              "      border-color: transparent;\n",
              "      border-right-color: var(--fill-color);\n",
              "      border-bottom-color: var(--fill-color);\n",
              "    }\n",
              "    90% {\n",
              "      border-color: transparent;\n",
              "      border-bottom-color: var(--fill-color);\n",
              "    }\n",
              "  }\n",
              "</style>\n",
              "\n",
              "      <script>\n",
              "        async function quickchart(key) {\n",
              "          const quickchartButtonEl =\n",
              "            document.querySelector('#' + key + ' button');\n",
              "          quickchartButtonEl.disabled = true;  // To prevent multiple clicks.\n",
              "          quickchartButtonEl.classList.add('colab-df-spinner');\n",
              "          try {\n",
              "            const charts = await google.colab.kernel.invokeFunction(\n",
              "                'suggestCharts', [key], {});\n",
              "          } catch (error) {\n",
              "            console.error('Error during call to suggestCharts:', error);\n",
              "          }\n",
              "          quickchartButtonEl.classList.remove('colab-df-spinner');\n",
              "          quickchartButtonEl.classList.add('colab-df-quickchart-complete');\n",
              "        }\n",
              "        (() => {\n",
              "          let quickchartButtonEl =\n",
              "            document.querySelector('#df-97131b0b-b06a-4391-855a-02d7631f5741 button');\n",
              "          quickchartButtonEl.style.display =\n",
              "            google.colab.kernel.accessAllowed ? 'block' : 'none';\n",
              "        })();\n",
              "      </script>\n",
              "    </div>\n",
              "\n",
              "    </div>\n",
              "  </div>\n"
            ],
            "text/plain": [
              "   leeftijd  bewegingsbereik  radialen  voorspelling\n",
              "0        35              154  2.686444    138.067282\n",
              "1        24              142  2.477111    128.486544\n",
              "2        40              137  2.389889    142.422164\n",
              "3        31              133  2.320111    134.583377\n",
              "4        28              122  2.128222    131.970449"
            ]
          },
          "execution_count": 59,
          "metadata": {},
          "output_type": "execute_result"
        }
      ],
      "source": [
        "dfknie['voorspelling'] = dfknie['leeftijd'].map(lambda x: model.predict([[x]])[0])\n",
        "dfknie.head()"
      ]
    },
    {
      "cell_type": "code",
      "execution_count": 60,
      "metadata": {
        "colab": {
          "base_uri": "https://localhost:8080/"
        },
        "id": "wT1Yd4uYELbv",
        "outputId": "8cf19538-b066-485c-bfed-ec70fd704260"
      },
      "outputs": [
        {
          "name": "stdout",
          "output_type": "stream",
          "text": [
            "MSE = 90.4779\n"
          ]
        }
      ],
      "source": [
        "# 7. Bereken het gemiddelde van de squared residuals van de gegeven waarden.\n",
        "from sklearn.metrics import mean_absolute_error,mean_squared_error\n",
        "print(f\"MSE = {round(mean_squared_error(dfknie['bewegingsbereik'], dfknie['voorspelling']), 4)}\")"
      ]
    },
    {
      "cell_type": "code",
      "execution_count": 61,
      "metadata": {
        "colab": {
          "base_uri": "https://localhost:8080/"
        },
        "id": "yKiJKoVuFW3e",
        "outputId": "459f2ef7-2b9c-4534-8b1d-b7e8b570d6c0"
      },
      "outputs": [
        {
          "name": "stdout",
          "output_type": "stream",
          "text": [
            "90.4779\n"
          ]
        }
      ],
      "source": [
        "# alternatieve werkwijze\n",
        "dfknie['verschil'] = (dfknie['voorspelling'] - dfknie['bewegingsbereik']) ** 2\n",
        "print(round(dfknie['verschil'].mean(), 4))"
      ]
    },
    {
      "cell_type": "markdown",
      "metadata": {
        "id": "9CCuiipV9vOc"
      },
      "source": [
        "## Vraag 10 [6 pt]\n",
        "Een volkswijsheid luidt dat er meer kinderen geboren worden gedurende bepaalde fasen van de maancyclus, in het bijzonder bij volle maan. In 2005 werd een classificatie gedaan van het aantal geboortes alnaargelang de maancyclus.\n",
        "Een steekproef van het aantal geboortes gedurende verschillende maancycli wordt hieronder gegeven.\n",
        "Is er een verband tussen de maancyclus en het aantal geboortes?\n",
        "\n",
        "1. Welke hypothesetoets ga je toepassen om deze onderzoeksvraag te beantwoorden? Wees zo specifiek mogelijk! goodness of fit\n",
        "2. Formuleer de nulhypothese en de alternatieve hypothese er is (wel) verb\n",
        "3. Bereken de gepaste toetsingsgrootheid (teststatistiek) voor deze toets. Geef het symbool en de waarde chi2 = 6.3111\n",
        "4. Bereken de p-waarde p = 0.5039\n",
        "5. Trek een besluit op basis van de vorige stap en formuleer een antwoord op de onderzoeksvraag. H0 behouden: Er is geen verband tussen de maancyclus en het aantal geboortes   ===>>   H0 n verwerpen\n"
      ]
    },
    {
      "cell_type": "code",
      "execution_count": 62,
      "metadata": {
        "colab": {
          "base_uri": "https://localhost:8080/",
          "height": 300
        },
        "id": "Ei1O1YMCHLDa",
        "outputId": "640f19c9-0868-4c42-90a6-41e225274522"
      },
      "outputs": [
        {
          "data": {
            "application/vnd.google.colaboratory.intrinsic+json": {
              "summary": "{\n  \"name\": \"dfmaan\",\n  \"rows\": 8,\n  \"fields\": [\n    {\n      \"column\": \"maanfase\",\n      \"properties\": {\n        \"dtype\": \"string\",\n        \"num_unique_values\": 8,\n        \"samples\": [\n          \"jonge maansikkel\",\n          \"afnemende maan\",\n          \"nieuwe maan\"\n        ],\n        \"semantic_type\": \"\",\n        \"description\": \"\"\n      }\n    },\n    {\n      \"column\": \"aantal_dagen\",\n      \"properties\": {\n        \"dtype\": \"number\",\n        \"std\": 67,\n        \"min\": 24,\n        \"max\": 152,\n        \"num_unique_values\": 4,\n        \"samples\": [\n          152,\n          150,\n          24\n        ],\n        \"semantic_type\": \"\",\n        \"description\": \"\"\n      }\n    },\n    {\n      \"column\": \"aantal_geboorten\",\n      \"properties\": {\n        \"dtype\": \"number\",\n        \"std\": 21566,\n        \"min\": 7579,\n        \"max\": 48442,\n        \"num_unique_values\": 8,\n        \"samples\": [\n          48442,\n          47595,\n          7680\n        ],\n        \"semantic_type\": \"\",\n        \"description\": \"\"\n      }\n    }\n  ]\n}",
              "type": "dataframe",
              "variable_name": "dfmaan"
            },
            "text/html": [
              "\n",
              "  <div id=\"df-d3e6db6f-8840-4df3-8b20-f9fb8ffd969f\" class=\"colab-df-container\">\n",
              "    <div>\n",
              "<style scoped>\n",
              "    .dataframe tbody tr th:only-of-type {\n",
              "        vertical-align: middle;\n",
              "    }\n",
              "\n",
              "    .dataframe tbody tr th {\n",
              "        vertical-align: top;\n",
              "    }\n",
              "\n",
              "    .dataframe thead th {\n",
              "        text-align: right;\n",
              "    }\n",
              "</style>\n",
              "<table border=\"1\" class=\"dataframe\">\n",
              "  <thead>\n",
              "    <tr style=\"text-align: right;\">\n",
              "      <th></th>\n",
              "      <th>maanfase</th>\n",
              "      <th>aantal_dagen</th>\n",
              "      <th>aantal_geboorten</th>\n",
              "    </tr>\n",
              "  </thead>\n",
              "  <tbody>\n",
              "    <tr>\n",
              "      <th>0</th>\n",
              "      <td>nieuwe maan</td>\n",
              "      <td>24</td>\n",
              "      <td>7680</td>\n",
              "    </tr>\n",
              "    <tr>\n",
              "      <th>1</th>\n",
              "      <td>jonge maansikkel</td>\n",
              "      <td>152</td>\n",
              "      <td>48442</td>\n",
              "    </tr>\n",
              "    <tr>\n",
              "      <th>2</th>\n",
              "      <td>eerste kwartier</td>\n",
              "      <td>24</td>\n",
              "      <td>7579</td>\n",
              "    </tr>\n",
              "    <tr>\n",
              "      <th>3</th>\n",
              "      <td>wassende maan</td>\n",
              "      <td>149</td>\n",
              "      <td>47814</td>\n",
              "    </tr>\n",
              "    <tr>\n",
              "      <th>4</th>\n",
              "      <td>volle maan</td>\n",
              "      <td>24</td>\n",
              "      <td>7711</td>\n",
              "    </tr>\n",
              "    <tr>\n",
              "      <th>5</th>\n",
              "      <td>afnemende maan</td>\n",
              "      <td>150</td>\n",
              "      <td>47595</td>\n",
              "    </tr>\n",
              "    <tr>\n",
              "      <th>6</th>\n",
              "      <td>laatste kwartier</td>\n",
              "      <td>24</td>\n",
              "      <td>7733</td>\n",
              "    </tr>\n",
              "    <tr>\n",
              "      <th>7</th>\n",
              "      <td>asgrauwe maan</td>\n",
              "      <td>152</td>\n",
              "      <td>48230</td>\n",
              "    </tr>\n",
              "  </tbody>\n",
              "</table>\n",
              "</div>\n",
              "    <div class=\"colab-df-buttons\">\n",
              "\n",
              "  <div class=\"colab-df-container\">\n",
              "    <button class=\"colab-df-convert\" onclick=\"convertToInteractive('df-d3e6db6f-8840-4df3-8b20-f9fb8ffd969f')\"\n",
              "            title=\"Convert this dataframe to an interactive table.\"\n",
              "            style=\"display:none;\">\n",
              "\n",
              "  <svg xmlns=\"http://www.w3.org/2000/svg\" height=\"24px\" viewBox=\"0 -960 960 960\">\n",
              "    <path d=\"M120-120v-720h720v720H120Zm60-500h600v-160H180v160Zm220 220h160v-160H400v160Zm0 220h160v-160H400v160ZM180-400h160v-160H180v160Zm440 0h160v-160H620v160ZM180-180h160v-160H180v160Zm440 0h160v-160H620v160Z\"/>\n",
              "  </svg>\n",
              "    </button>\n",
              "\n",
              "  <style>\n",
              "    .colab-df-container {\n",
              "      display:flex;\n",
              "      gap: 12px;\n",
              "    }\n",
              "\n",
              "    .colab-df-convert {\n",
              "      background-color: #E8F0FE;\n",
              "      border: none;\n",
              "      border-radius: 50%;\n",
              "      cursor: pointer;\n",
              "      display: none;\n",
              "      fill: #1967D2;\n",
              "      height: 32px;\n",
              "      padding: 0 0 0 0;\n",
              "      width: 32px;\n",
              "    }\n",
              "\n",
              "    .colab-df-convert:hover {\n",
              "      background-color: #E2EBFA;\n",
              "      box-shadow: 0px 1px 2px rgba(60, 64, 67, 0.3), 0px 1px 3px 1px rgba(60, 64, 67, 0.15);\n",
              "      fill: #174EA6;\n",
              "    }\n",
              "\n",
              "    .colab-df-buttons div {\n",
              "      margin-bottom: 4px;\n",
              "    }\n",
              "\n",
              "    [theme=dark] .colab-df-convert {\n",
              "      background-color: #3B4455;\n",
              "      fill: #D2E3FC;\n",
              "    }\n",
              "\n",
              "    [theme=dark] .colab-df-convert:hover {\n",
              "      background-color: #434B5C;\n",
              "      box-shadow: 0px 1px 3px 1px rgba(0, 0, 0, 0.15);\n",
              "      filter: drop-shadow(0px 1px 2px rgba(0, 0, 0, 0.3));\n",
              "      fill: #FFFFFF;\n",
              "    }\n",
              "  </style>\n",
              "\n",
              "    <script>\n",
              "      const buttonEl =\n",
              "        document.querySelector('#df-d3e6db6f-8840-4df3-8b20-f9fb8ffd969f button.colab-df-convert');\n",
              "      buttonEl.style.display =\n",
              "        google.colab.kernel.accessAllowed ? 'block' : 'none';\n",
              "\n",
              "      async function convertToInteractive(key) {\n",
              "        const element = document.querySelector('#df-d3e6db6f-8840-4df3-8b20-f9fb8ffd969f');\n",
              "        const dataTable =\n",
              "          await google.colab.kernel.invokeFunction('convertToInteractive',\n",
              "                                                    [key], {});\n",
              "        if (!dataTable) return;\n",
              "\n",
              "        const docLinkHtml = 'Like what you see? Visit the ' +\n",
              "          '<a target=\"_blank\" href=https://colab.research.google.com/notebooks/data_table.ipynb>data table notebook</a>'\n",
              "          + ' to learn more about interactive tables.';\n",
              "        element.innerHTML = '';\n",
              "        dataTable['output_type'] = 'display_data';\n",
              "        await google.colab.output.renderOutput(dataTable, element);\n",
              "        const docLink = document.createElement('div');\n",
              "        docLink.innerHTML = docLinkHtml;\n",
              "        element.appendChild(docLink);\n",
              "      }\n",
              "    </script>\n",
              "  </div>\n",
              "\n",
              "\n",
              "    <div id=\"df-740805fd-4d7a-4224-b47c-053ac8dd4b39\">\n",
              "      <button class=\"colab-df-quickchart\" onclick=\"quickchart('df-740805fd-4d7a-4224-b47c-053ac8dd4b39')\"\n",
              "                title=\"Suggest charts\"\n",
              "                style=\"display:none;\">\n",
              "\n",
              "<svg xmlns=\"http://www.w3.org/2000/svg\" height=\"24px\"viewBox=\"0 0 24 24\"\n",
              "     width=\"24px\">\n",
              "    <g>\n",
              "        <path d=\"M19 3H5c-1.1 0-2 .9-2 2v14c0 1.1.9 2 2 2h14c1.1 0 2-.9 2-2V5c0-1.1-.9-2-2-2zM9 17H7v-7h2v7zm4 0h-2V7h2v10zm4 0h-2v-4h2v4z\"/>\n",
              "    </g>\n",
              "</svg>\n",
              "      </button>\n",
              "\n",
              "<style>\n",
              "  .colab-df-quickchart {\n",
              "      --bg-color: #E8F0FE;\n",
              "      --fill-color: #1967D2;\n",
              "      --hover-bg-color: #E2EBFA;\n",
              "      --hover-fill-color: #174EA6;\n",
              "      --disabled-fill-color: #AAA;\n",
              "      --disabled-bg-color: #DDD;\n",
              "  }\n",
              "\n",
              "  [theme=dark] .colab-df-quickchart {\n",
              "      --bg-color: #3B4455;\n",
              "      --fill-color: #D2E3FC;\n",
              "      --hover-bg-color: #434B5C;\n",
              "      --hover-fill-color: #FFFFFF;\n",
              "      --disabled-bg-color: #3B4455;\n",
              "      --disabled-fill-color: #666;\n",
              "  }\n",
              "\n",
              "  .colab-df-quickchart {\n",
              "    background-color: var(--bg-color);\n",
              "    border: none;\n",
              "    border-radius: 50%;\n",
              "    cursor: pointer;\n",
              "    display: none;\n",
              "    fill: var(--fill-color);\n",
              "    height: 32px;\n",
              "    padding: 0;\n",
              "    width: 32px;\n",
              "  }\n",
              "\n",
              "  .colab-df-quickchart:hover {\n",
              "    background-color: var(--hover-bg-color);\n",
              "    box-shadow: 0 1px 2px rgba(60, 64, 67, 0.3), 0 1px 3px 1px rgba(60, 64, 67, 0.15);\n",
              "    fill: var(--button-hover-fill-color);\n",
              "  }\n",
              "\n",
              "  .colab-df-quickchart-complete:disabled,\n",
              "  .colab-df-quickchart-complete:disabled:hover {\n",
              "    background-color: var(--disabled-bg-color);\n",
              "    fill: var(--disabled-fill-color);\n",
              "    box-shadow: none;\n",
              "  }\n",
              "\n",
              "  .colab-df-spinner {\n",
              "    border: 2px solid var(--fill-color);\n",
              "    border-color: transparent;\n",
              "    border-bottom-color: var(--fill-color);\n",
              "    animation:\n",
              "      spin 1s steps(1) infinite;\n",
              "  }\n",
              "\n",
              "  @keyframes spin {\n",
              "    0% {\n",
              "      border-color: transparent;\n",
              "      border-bottom-color: var(--fill-color);\n",
              "      border-left-color: var(--fill-color);\n",
              "    }\n",
              "    20% {\n",
              "      border-color: transparent;\n",
              "      border-left-color: var(--fill-color);\n",
              "      border-top-color: var(--fill-color);\n",
              "    }\n",
              "    30% {\n",
              "      border-color: transparent;\n",
              "      border-left-color: var(--fill-color);\n",
              "      border-top-color: var(--fill-color);\n",
              "      border-right-color: var(--fill-color);\n",
              "    }\n",
              "    40% {\n",
              "      border-color: transparent;\n",
              "      border-right-color: var(--fill-color);\n",
              "      border-top-color: var(--fill-color);\n",
              "    }\n",
              "    60% {\n",
              "      border-color: transparent;\n",
              "      border-right-color: var(--fill-color);\n",
              "    }\n",
              "    80% {\n",
              "      border-color: transparent;\n",
              "      border-right-color: var(--fill-color);\n",
              "      border-bottom-color: var(--fill-color);\n",
              "    }\n",
              "    90% {\n",
              "      border-color: transparent;\n",
              "      border-bottom-color: var(--fill-color);\n",
              "    }\n",
              "  }\n",
              "</style>\n",
              "\n",
              "      <script>\n",
              "        async function quickchart(key) {\n",
              "          const quickchartButtonEl =\n",
              "            document.querySelector('#' + key + ' button');\n",
              "          quickchartButtonEl.disabled = true;  // To prevent multiple clicks.\n",
              "          quickchartButtonEl.classList.add('colab-df-spinner');\n",
              "          try {\n",
              "            const charts = await google.colab.kernel.invokeFunction(\n",
              "                'suggestCharts', [key], {});\n",
              "          } catch (error) {\n",
              "            console.error('Error during call to suggestCharts:', error);\n",
              "          }\n",
              "          quickchartButtonEl.classList.remove('colab-df-spinner');\n",
              "          quickchartButtonEl.classList.add('colab-df-quickchart-complete');\n",
              "        }\n",
              "        (() => {\n",
              "          let quickchartButtonEl =\n",
              "            document.querySelector('#df-740805fd-4d7a-4224-b47c-053ac8dd4b39 button');\n",
              "          quickchartButtonEl.style.display =\n",
              "            google.colab.kernel.accessAllowed ? 'block' : 'none';\n",
              "        })();\n",
              "      </script>\n",
              "    </div>\n",
              "\n",
              "    </div>\n",
              "  </div>\n"
            ],
            "text/plain": [
              "           maanfase  aantal_dagen  aantal_geboorten\n",
              "0       nieuwe maan            24              7680\n",
              "1  jonge maansikkel           152             48442\n",
              "2   eerste kwartier            24              7579\n",
              "3     wassende maan           149             47814\n",
              "4        volle maan            24              7711\n",
              "5    afnemende maan           150             47595\n",
              "6  laatste kwartier            24              7733\n",
              "7     asgrauwe maan           152             48230"
            ]
          },
          "execution_count": 62,
          "metadata": {},
          "output_type": "execute_result"
        }
      ],
      "source": [
        "dfmaan = pd.DataFrame(data={'maanfase': ['nieuwe maan', 'jonge maansikkel', 'eerste kwartier', 'wassende maan', 'volle maan', 'afnemende maan', 'laatste kwartier', 'asgrauwe maan'],\n",
        "                            'aantal_dagen': [24, 152, 24, 149, 24, 150, 24, 152],\n",
        "                            'aantal_geboorten': [7680, 48442, 7579, 47814, 7711, 47595, 7733, 48230]})\n",
        "\n",
        "dfmaan.head(10)\n"
      ]
    },
    {
      "cell_type": "code",
      "execution_count": 63,
      "metadata": {
        "colab": {
          "base_uri": "https://localhost:8080/"
        },
        "id": "GBELy_vKJsJJ",
        "outputId": "d2431e7e-ab55-4b9c-f78b-0bb0cc892e1c"
      },
      "outputs": [
        {
          "name": "stdout",
          "output_type": "stream",
          "text": [
            "699\n"
          ]
        }
      ],
      "source": [
        "# 1\n",
        "totaal_aantal_dagen = dfmaan['aantal_dagen'].sum()\n",
        "print(totaal_aantal_dagen)\n",
        "\n",
        "# 2 Goodness of fit test"
      ]
    },
    {
      "cell_type": "code",
      "execution_count": 64,
      "metadata": {
        "colab": {
          "base_uri": "https://localhost:8080/"
        },
        "id": "CJiErZuEKWD2",
        "outputId": "bd8b1412-d47f-4b23-ae62-a1dcdccc6526"
      },
      "outputs": [
        {
          "name": "stdout",
          "output_type": "stream",
          "text": [
            "[0.03433476 0.21745351 0.03433476 0.21316166 0.03433476 0.21459227\n",
            " 0.03433476 0.21745351]\n",
            "χ² = 6.3111\n",
            "p  = 0.5039\n"
          ]
        }
      ],
      "source": [
        "observed=np.array(dfmaan['aantal_geboorten'])\n",
        "expected_p=np.array(dfmaan['aantal_dagen'] / totaal_aantal_dagen)\n",
        "print(expected_p)\n",
        "expected= expected_p*sum(observed)\n",
        "chi2, p=stats.chisquare(f_obs= observed, f_exp= expected)\n",
        "print(\"χ² = %.4f\" % chi2)\n",
        "print(\"p  = %.4f\" % p)\n"
      ]
    },
    {
      "cell_type": "markdown",
      "metadata": {
        "id": "NgIVOF6YIN6Y"
      },
      "source": [
        "'''\n",
        "Step 1\n",
        "H0: Er is geen verband tussen de maancyclus en het aantal geboortes\n",
        "H1: Er is wel een verband tussen de maancyclus en het aantal geboortes\n",
        "\n",
        "Step 2\n",
        "Choose significance level alpha = 0.05\n",
        "\n",
        "Step 3\n",
        "Calculate the value of the test statistic in the sample\n",
        "chi2 = 6.3111\n",
        "\n",
        "Step 4\n",
        "Calculate the p value p = 0.5039\n",
        "\n",
        "Step 5\n",
        "p > alpha => not enough to evidence to reject H0\n",
        "\n",
        "\n",
        "Step 6\n",
        "Antwoord op de onderzoeksvraag\n",
        "Er is geen verband tussen de maancyclus en het aantal geboortes\n",
        "'''"
      ]
    },
    {
      "cell_type": "markdown",
      "metadata": {
        "id": "d9Z3TRzVqRT7"
      },
      "source": [
        "## Vraag 4 [3 pt]\n",
        "\n",
        "Een doos bevat vijf stukjes papier, gemarkeerd met €1, €1, €1, €10 en €25.\n",
        "Een speler kiest twee stukjes papier en wint dan het grootste van de bedragen op de twee stukjes papier.\n",
        "Definieer een discrete random variabele _X_ met _X_ = gewonnen bedrag.\n",
        "1. Bepaal de discrete probabiliteitsdistributie van dit spel\n",
        "- $P(X = 1) = ?$\n",
        "- $P(X = 10) = ?$\n",
        "- $P(X = 25) = ?$\n",
        "2. Vervang in *Prob_X* hieronder [0.1, 0.3, 0.5] door de gevonden waarden voor een grafische weergave van de discrete probabiliteitsdistributie.\n",
        "3. Bereken de verwachtingswaarde (expectation) van de random variabele _X_= $\\mu = \\mathbb{E}(X) = \\sum_{i=1}^{n} x_i \\, P(X = x_i)$\n",
        "\n",
        "\n",
        "(Hint: beschouw de stukjes papier als genummerd 1, 2, 3, 4 en 5.)\n"
      ]
    },
    {
      "cell_type": "markdown",
      "metadata": {
        "id": "jYBkt4zVJCIt"
      },
      "source": [
        "De discrete kansverdeling van het gewonnen bedrag X\n",
        "X is:\n",
        "\n",
        "1. Kans op €1: 0,3\n",
        "\n",
        "1. Kans op €10: 0,3\n",
        "\n",
        "1. Kans op €25: 0,4\n",
        "\n",
        "Alle mogelijkheden nakijken / opschrijven (of... combinatoriek gebruiken)"
      ]
    },
    {
      "cell_type": "code",
      "execution_count": 68,
      "metadata": {
        "colab": {
          "base_uri": "https://localhost:8080/",
          "height": 447
        },
        "id": "WGQVU9sAqQ0x",
        "outputId": "1ca5329c-1f56-48a0-98fd-346206f7d357"
      },
      "outputs": [
        {
          "data": {
            "text/plain": [
              "<Axes: >"
            ]
          },
          "execution_count": 68,
          "metadata": {},
          "output_type": "execute_result"
        },
        {
          "data": {
            "image/png": "[encoded data removed]",
            "text/plain": [
              "<Figure size 640x480 with 1 Axes>"
            ]
          },
          "metadata": {},
          "output_type": "display_data"
        }
      ],
      "source": [
        "X = [1, 10, 25]                 # Mogelijke uitkomsten. Ongewijzigd laten!!\n",
        "# Prob_X = [0.1, 0.3, 0.5]      # Vervang door zelf gevonden waarden!!\n",
        "Prob_X = [0.3, 0.3, 0.4]        # Vervangen door de gevonden waarden!!\n",
        "sns.barplot(x = X, y = Prob_X)  # Visuele voorstelling. Ongewijzigd laten!!"
      ]
    },
    {
      "cell_type": "code",
      "execution_count": 66,
      "metadata": {
        "colab": {
          "base_uri": "https://localhost:8080/"
        },
        "id": "WscunQFXuKLW",
        "outputId": "f5507002-7d40-489c-8c89-42444acb8d96"
      },
      "outputs": [
        {
          "name": "stdout",
          "output_type": "stream",
          "text": [
            "13.3\n"
          ]
        }
      ],
      "source": [
        "# 1\n",
        "Prob_X = [6/20, 6/20, 8/20]\n",
        "\n",
        "# 2\n",
        "print(np.sum(np.array(X) * np.array(Prob_X)))\n"
      ]
    }
  ],
  "metadata": {
    "colab": {
      "provenance": []
    },
    "kernelspec": {
      "display_name": "Python 3",
      "name": "python3"
    },
    "language_info": {
      "codemirror_mode": {
        "name": "ipython",
        "version": 3
      },
      "file_extension": ".py",
      "mimetype": "text/x-python",
      "name": "python",
      "nbconvert_exporter": "python",
      "pygments_lexer": "ipython3",
      "version": "3.13.1"
    }
  },
  "nbformat": 4,
  "nbformat_minor": 0
}
